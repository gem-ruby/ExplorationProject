{
 "cells": [
  {
   "cell_type": "markdown",
   "metadata": {},
   "source": [
    "# Exploration Project 01\n",
    "### Classification - Using scikit-learn Library and Toy Datasets"
   ]
  },
  {
   "cell_type": "markdown",
   "metadata": {},
   "source": [
    "#### **▶ scikit-learn**\n",
    "\n",
    "scikit-learn 라이브러리는 파이썬 기반으로 데이터 분석과 머신러닝 분야에서 널리 사용되는 라이브러리이다.\n",
    "\n",
    "또한, scikit-learn 라이브러리는 여러 데이터셋을 내장하고 있다.\n",
    "\n",
    "여기서는 파이썬과 scikit-learn 라이브러리를 활용하여 손글씨, 와인, 유방암 분류 프로젝트를 수행하고자 한다."
   ]
  },
  {
   "cell_type": "markdown",
   "metadata": {},
   "source": [
    "## 1. 데이터셋\n",
    "\n",
    " - 머신러닝에 앞서, 데이터셋의 정보 확인과 해당 데이터들에 대한 이해가 필요하다.\n",
    " \n",
    " - 데이터에 대한 이해가 곧 데이터를 활용한 결과와 성능에 중대한 요소이기 때문이다."
   ]
  },
  {
   "cell_type": "markdown",
   "metadata": {},
   "source": [
    "scikit-learn 라이브러리 에서는 간단하고 작은 데이터셋인 Toy dataset 과\n",
    "\n",
    "비교적 복잡하고 현실 세계를 반영한 Real world dataset 등의 데이터셋을 제공한다.\n",
    "\n",
    "본 프로젝트는, 이 데이터 셋 중에서 Toy dataset 에 해당하는 3개의 데이터셋을 활용한다."
   ]
  },
  {
   "cell_type": "markdown",
   "metadata": {},
   "source": [
    "scikit-learn 라이브러리 사용전에 패키지 설치가 필요하다.\n",
    "\n",
    ">\\$ pip show scikit-learn\n",
    "\n",
    " ▲ 터미널을 사용하여 라이브러리의 설치유무를 파악한다. 설치정보와 버전등이 출력된다면 설치가 된 것이다.\n",
    "\n",
    ">\\$ pip install scikit-learn\n",
    "\n",
    " ▲ 패키지를 찾을 수 없다고 화면에 출력 될 경우 이 명령을 사용하여 scikit-learn 패키지를 설치한다."
   ]
  },
  {
   "cell_type": "markdown",
   "metadata": {},
   "source": [
    "scikit-learn 라이브러리에서 제공되는 [Toy Dataset](https://scikit-learn.org/stable/datasets/toy_dataset.html, \"Toy dataset\") 에서는, \n",
    "\n",
    "데이터셋을 불러오는 내장함수와 데이터셋에 대한 간략한 사용법과 설명 등을 볼 수 있다.\n",
    "\n",
    "\n",
    "load_digits : [손글씨 이미지 데이터](https://scikit-learn.org/stable/modules/generated/sklearn.datasets.load_digits.html#sklearn.datasets.load_digits)\n",
    "\n",
    "load_wine : [와인 데이터](https://scikit-learn.org/stable/modules/generated/sklearn.datasets.load_wine.html#sklearn.datasets.load_wine)\n",
    "\n",
    "load_breast_cancer : [유방암 데이터](https://scikit-learn.org/stable/modules/generated/sklearn.datasets.load_breast_cancer.html#sklearn.datasets.load_breast_cancer) "
   ]
  },
  {
   "cell_type": "markdown",
   "metadata": {},
   "source": [
    "일단, scikit-learn 라이브러리를 import 하고 데이터셋들을 가져온다."
   ]
  },
  {
   "cell_type": "code",
   "execution_count": 142,
   "metadata": {},
   "outputs": [],
   "source": [
    "## scikit-learn Lib\n",
    "import sklearn.datasets as sklds\n",
    "\n",
    "digi_ds = sklds.load_digits(as_frame=True)          ## 손글씨 데이터셋\n",
    "wine_ds = sklds.load_wine(as_frame=True)            ## 와인 데이터셋\n",
    "canc_ds = sklds.load_breast_cancer(as_frame=True)   ## 유방암 데이터셋"
   ]
  },
  {
   "cell_type": "code",
   "execution_count": 141,
   "metadata": {},
   "outputs": [],
   "source": [
    "## 데이터셋의 정보를 화면에 출력\n",
    "def skl_dataset_info(skl_dataset, dsname):\n",
    "    shap = skl_dataset.data.shape\n",
    "    print(dsname+\".shape :\", shap)              ## 데이터의 형상\n",
    "    print()\n",
    "    fenm = skl_dataset.feature_names\n",
    "    print(dsname+\".feature_names :\\n\", fenm)    ## feature. 일종의 문제지. 특징.\n",
    "    print()\n",
    "    tgnm = skl_dataset.target_names\n",
    "    print(dsname+\".target_names :\\n\", tgnm)     ## target. 일종의 답안지. 타겟. (라벨)\n",
    "    print(\"─\" * 80)    "
   ]
  },
  {
   "cell_type": "markdown",
   "metadata": {},
   "source": [
    "그리고 각 데이터들의 정보를 파악하기 위한 함수를 정의했다."
   ]
  },
  {
   "cell_type": "code",
   "execution_count": 143,
   "metadata": {},
   "outputs": [
    {
     "name": "stdout",
     "output_type": "stream",
     "text": [
      ".. _digits_dataset:\n",
      "\n",
      "Optical recognition of handwritten digits dataset\n",
      "--------------------------------------------------\n",
      "\n",
      "**Data Set Characteristics:**\n",
      "\n",
      "    :Number of Instances: 1797\n",
      "    :Number of Attributes: 64\n",
      "    :Attribute Information: 8x8 image of integer pixels in the range 0..16.\n",
      "    :Missing Attribute Values: None\n",
      "    :Creator: E. Alpaydin (alpaydin '@' boun.edu.tr)\n",
      "    :Date: July; 1998\n",
      "\n",
      "This is a copy of the test set of the UCI ML hand-written digits datasets\n",
      "https://archive.ics.uci.edu/ml/datasets/Optical+Recognition+of+Handwritten+Digits\n",
      "\n",
      "The data set contains images of hand-written digits: 10 classes where\n",
      "each class refers to a digit.\n",
      "\n",
      "Preprocessing programs made available by NIST were used to extract\n",
      "normalized bitmaps of handwritten digits from a preprinted form. From a\n",
      "total of 43 people, 30 contributed to the training set and different 13\n",
      "to the test set. 32x32 bitmaps are divided into nonoverlapping blocks of\n",
      "4x4 and the number of on pixels are counted in each block. This generates\n",
      "an input matrix of 8x8 where each element is an integer in the range\n",
      "0..16. This reduces dimensionality and gives invariance to small\n",
      "distortions.\n",
      "\n",
      "For info on NIST preprocessing routines, see M. D. Garris, J. L. Blue, G.\n",
      "T. Candela, D. L. Dimmick, J. Geist, P. J. Grother, S. A. Janet, and C.\n",
      "L. Wilson, NIST Form-Based Handprint Recognition System, NISTIR 5469,\n",
      "1994.\n",
      "\n",
      ".. topic:: References\n",
      "\n",
      "  - C. Kaynak (1995) Methods of Combining Multiple Classifiers and Their\n",
      "    Applications to Handwritten Digit Recognition, MSc Thesis, Institute of\n",
      "    Graduate Studies in Science and Engineering, Bogazici University.\n",
      "  - E. Alpaydin, C. Kaynak (1998) Cascading Classifiers, Kybernetika.\n",
      "  - Ken Tang and Ponnuthurai N. Suganthan and Xi Yao and A. Kai Qin.\n",
      "    Linear dimensionalityreduction using relevance weighted LDA. School of\n",
      "    Electrical and Electronic Engineering Nanyang Technological University.\n",
      "    2005.\n",
      "  - Claudio Gentile. A New Approximate Maximal Margin Classification\n",
      "    Algorithm. NIPS. 2000.\n",
      "\n"
     ]
    }
   ],
   "source": [
    "## 간략한 설명을 확인\n",
    "print(digi_ds.DESCR)\n"
   ]
  },
  {
   "cell_type": "markdown",
   "metadata": {},
   "source": [
    "### 1) digit 데이터셋 분석"
   ]
  },
  {
   "cell_type": "markdown",
   "metadata": {},
   "source": [
    "scikit-learn에서 제공하는 [User guide](https://scikit-learn.org/stable/datasets/toy_dataset.html#digits-dataset) 에서는\n",
    "\n",
    "손글씨 데이터셋의 설명과 형상, feature, target(label) 등에 대한 설명을 출력한다.\n",
    "\n",
    "이것은 위의 skl_dataset_info(digi_ds, \"digit\") 함수의 DESCR 출력 부분에서도 찾아 볼 수 있다."
   ]
  },
  {
   "cell_type": "markdown",
   "metadata": {},
   "source": [
    "▶ 손글씨 데이터셋의 특성(Data Set Characteristics) 에서는 아래의 내용들을 확인 할 수 있다.\n",
    "\n",
    " + 손글씨 데이터셋의 인스턴스 수 : 1797\n",
    "\n",
    " + 손글씨 데이터셋의 속성 수 : 64\n",
    "\n",
    " + 손글씨 데이터셋의 속성에 관한 정보 : 8×8 픽셀의 형태, 0~16 범위의 수를 갖는 픽셀들로 이루어져 있다\n",
    "\n",
    " + 누락된 속성 : 없음. (=결측치가 없다.)"
   ]
  },
  {
   "cell_type": "code",
   "execution_count": 144,
   "metadata": {},
   "outputs": [
    {
     "name": "stdout",
     "output_type": "stream",
     "text": [
      "digit.shape : (1797, 64)\n",
      "\n",
      "digit.feature_names :\n",
      " ['pixel_0_0', 'pixel_0_1', 'pixel_0_2', 'pixel_0_3', 'pixel_0_4', 'pixel_0_5', 'pixel_0_6', 'pixel_0_7', 'pixel_1_0', 'pixel_1_1', 'pixel_1_2', 'pixel_1_3', 'pixel_1_4', 'pixel_1_5', 'pixel_1_6', 'pixel_1_7', 'pixel_2_0', 'pixel_2_1', 'pixel_2_2', 'pixel_2_3', 'pixel_2_4', 'pixel_2_5', 'pixel_2_6', 'pixel_2_7', 'pixel_3_0', 'pixel_3_1', 'pixel_3_2', 'pixel_3_3', 'pixel_3_4', 'pixel_3_5', 'pixel_3_6', 'pixel_3_7', 'pixel_4_0', 'pixel_4_1', 'pixel_4_2', 'pixel_4_3', 'pixel_4_4', 'pixel_4_5', 'pixel_4_6', 'pixel_4_7', 'pixel_5_0', 'pixel_5_1', 'pixel_5_2', 'pixel_5_3', 'pixel_5_4', 'pixel_5_5', 'pixel_5_6', 'pixel_5_7', 'pixel_6_0', 'pixel_6_1', 'pixel_6_2', 'pixel_6_3', 'pixel_6_4', 'pixel_6_5', 'pixel_6_6', 'pixel_6_7', 'pixel_7_0', 'pixel_7_1', 'pixel_7_2', 'pixel_7_3', 'pixel_7_4', 'pixel_7_5', 'pixel_7_6', 'pixel_7_7']\n",
      "\n",
      "digit.target_names :\n",
      " [0 1 2 3 4 5 6 7 8 9]\n",
      "────────────────────────────────────────────────────────────────────────────────\n"
     ]
    }
   ],
   "source": [
    "## 데이터셋의 특성들에 대해서 검토한다\n",
    "\n",
    "skl_dataset_info(digi_ds, \"digit\")\n",
    "# skl_dataset_info(wine_ds, \"wine\")\n",
    "# skl_dataset_info(canc_ds, \"breast cancer wisconsin\")"
   ]
  },
  {
   "cell_type": "markdown",
   "metadata": {},
   "source": [
    "손글씨 데이터셋 피쳐의 이름을 보면 이것이 픽셀데이터를 의미하고,\n",
    "\n",
    "64개의 이름들을 살펴 보았을 때, pixel_ 이라는 문자 뒤에 붙는 두 숫자와 함께\n",
    "\n",
    "이것이 2차원 데이터의 인덱스를 의미함을 이름에서도 확인이 가능하다."
   ]
  },
  {
   "cell_type": "markdown",
   "metadata": {},
   "source": [
    "또한, 앞서 손글씨 데이터셋의 DESCR 에 나온대로,\n",
    "\n",
    "이 데이터들은 [0, 0] 에서 시작하여 [7, 7] 까지로 이루어진 8 × 8 행렬을\n",
    "\n",
    "64개의 1차원으로 나열한 것이며, 각 요소는 0 ~ 16 사이의 정수를 확인 할 수 있다.\n",
    "\n",
    "(Attribute Information: 8x8 image of integer pixels in the range 0..16.)"
   ]
  },
  {
   "cell_type": "code",
   "execution_count": 74,
   "metadata": {},
   "outputs": [
    {
     "data": {
      "text/html": [
       "<div>\n",
       "<style scoped>\n",
       "    .dataframe tbody tr th:only-of-type {\n",
       "        vertical-align: middle;\n",
       "    }\n",
       "\n",
       "    .dataframe tbody tr th {\n",
       "        vertical-align: top;\n",
       "    }\n",
       "\n",
       "    .dataframe thead th {\n",
       "        text-align: right;\n",
       "    }\n",
       "</style>\n",
       "<table border=\"1\" class=\"dataframe\">\n",
       "  <thead>\n",
       "    <tr style=\"text-align: right;\">\n",
       "      <th></th>\n",
       "      <th>pixel_0_0</th>\n",
       "      <th>pixel_0_1</th>\n",
       "      <th>pixel_0_2</th>\n",
       "      <th>pixel_0_3</th>\n",
       "      <th>pixel_0_4</th>\n",
       "      <th>pixel_0_5</th>\n",
       "      <th>pixel_0_6</th>\n",
       "      <th>pixel_0_7</th>\n",
       "      <th>pixel_1_0</th>\n",
       "      <th>pixel_1_1</th>\n",
       "      <th>...</th>\n",
       "      <th>pixel_6_6</th>\n",
       "      <th>pixel_6_7</th>\n",
       "      <th>pixel_7_0</th>\n",
       "      <th>pixel_7_1</th>\n",
       "      <th>pixel_7_2</th>\n",
       "      <th>pixel_7_3</th>\n",
       "      <th>pixel_7_4</th>\n",
       "      <th>pixel_7_5</th>\n",
       "      <th>pixel_7_6</th>\n",
       "      <th>pixel_7_7</th>\n",
       "    </tr>\n",
       "  </thead>\n",
       "  <tbody>\n",
       "    <tr>\n",
       "      <th>0</th>\n",
       "      <td>0.0</td>\n",
       "      <td>0.0</td>\n",
       "      <td>5.0</td>\n",
       "      <td>13.0</td>\n",
       "      <td>9.0</td>\n",
       "      <td>1.0</td>\n",
       "      <td>0.0</td>\n",
       "      <td>0.0</td>\n",
       "      <td>0.0</td>\n",
       "      <td>0.0</td>\n",
       "      <td>...</td>\n",
       "      <td>0.0</td>\n",
       "      <td>0.0</td>\n",
       "      <td>0.0</td>\n",
       "      <td>0.0</td>\n",
       "      <td>6.0</td>\n",
       "      <td>13.0</td>\n",
       "      <td>10.0</td>\n",
       "      <td>0.0</td>\n",
       "      <td>0.0</td>\n",
       "      <td>0.0</td>\n",
       "    </tr>\n",
       "    <tr>\n",
       "      <th>1</th>\n",
       "      <td>0.0</td>\n",
       "      <td>0.0</td>\n",
       "      <td>0.0</td>\n",
       "      <td>12.0</td>\n",
       "      <td>13.0</td>\n",
       "      <td>5.0</td>\n",
       "      <td>0.0</td>\n",
       "      <td>0.0</td>\n",
       "      <td>0.0</td>\n",
       "      <td>0.0</td>\n",
       "      <td>...</td>\n",
       "      <td>0.0</td>\n",
       "      <td>0.0</td>\n",
       "      <td>0.0</td>\n",
       "      <td>0.0</td>\n",
       "      <td>0.0</td>\n",
       "      <td>11.0</td>\n",
       "      <td>16.0</td>\n",
       "      <td>10.0</td>\n",
       "      <td>0.0</td>\n",
       "      <td>0.0</td>\n",
       "    </tr>\n",
       "    <tr>\n",
       "      <th>2</th>\n",
       "      <td>0.0</td>\n",
       "      <td>0.0</td>\n",
       "      <td>0.0</td>\n",
       "      <td>4.0</td>\n",
       "      <td>15.0</td>\n",
       "      <td>12.0</td>\n",
       "      <td>0.0</td>\n",
       "      <td>0.0</td>\n",
       "      <td>0.0</td>\n",
       "      <td>0.0</td>\n",
       "      <td>...</td>\n",
       "      <td>5.0</td>\n",
       "      <td>0.0</td>\n",
       "      <td>0.0</td>\n",
       "      <td>0.0</td>\n",
       "      <td>0.0</td>\n",
       "      <td>3.0</td>\n",
       "      <td>11.0</td>\n",
       "      <td>16.0</td>\n",
       "      <td>9.0</td>\n",
       "      <td>0.0</td>\n",
       "    </tr>\n",
       "    <tr>\n",
       "      <th>3</th>\n",
       "      <td>0.0</td>\n",
       "      <td>0.0</td>\n",
       "      <td>7.0</td>\n",
       "      <td>15.0</td>\n",
       "      <td>13.0</td>\n",
       "      <td>1.0</td>\n",
       "      <td>0.0</td>\n",
       "      <td>0.0</td>\n",
       "      <td>0.0</td>\n",
       "      <td>8.0</td>\n",
       "      <td>...</td>\n",
       "      <td>9.0</td>\n",
       "      <td>0.0</td>\n",
       "      <td>0.0</td>\n",
       "      <td>0.0</td>\n",
       "      <td>7.0</td>\n",
       "      <td>13.0</td>\n",
       "      <td>13.0</td>\n",
       "      <td>9.0</td>\n",
       "      <td>0.0</td>\n",
       "      <td>0.0</td>\n",
       "    </tr>\n",
       "    <tr>\n",
       "      <th>4</th>\n",
       "      <td>0.0</td>\n",
       "      <td>0.0</td>\n",
       "      <td>0.0</td>\n",
       "      <td>1.0</td>\n",
       "      <td>11.0</td>\n",
       "      <td>0.0</td>\n",
       "      <td>0.0</td>\n",
       "      <td>0.0</td>\n",
       "      <td>0.0</td>\n",
       "      <td>0.0</td>\n",
       "      <td>...</td>\n",
       "      <td>0.0</td>\n",
       "      <td>0.0</td>\n",
       "      <td>0.0</td>\n",
       "      <td>0.0</td>\n",
       "      <td>0.0</td>\n",
       "      <td>2.0</td>\n",
       "      <td>16.0</td>\n",
       "      <td>4.0</td>\n",
       "      <td>0.0</td>\n",
       "      <td>0.0</td>\n",
       "    </tr>\n",
       "  </tbody>\n",
       "</table>\n",
       "<p>5 rows × 64 columns</p>\n",
       "</div>"
      ],
      "text/plain": [
       "   pixel_0_0  pixel_0_1  pixel_0_2  pixel_0_3  pixel_0_4  pixel_0_5  \\\n",
       "0        0.0        0.0        5.0       13.0        9.0        1.0   \n",
       "1        0.0        0.0        0.0       12.0       13.0        5.0   \n",
       "2        0.0        0.0        0.0        4.0       15.0       12.0   \n",
       "3        0.0        0.0        7.0       15.0       13.0        1.0   \n",
       "4        0.0        0.0        0.0        1.0       11.0        0.0   \n",
       "\n",
       "   pixel_0_6  pixel_0_7  pixel_1_0  pixel_1_1  ...  pixel_6_6  pixel_6_7  \\\n",
       "0        0.0        0.0        0.0        0.0  ...        0.0        0.0   \n",
       "1        0.0        0.0        0.0        0.0  ...        0.0        0.0   \n",
       "2        0.0        0.0        0.0        0.0  ...        5.0        0.0   \n",
       "3        0.0        0.0        0.0        8.0  ...        9.0        0.0   \n",
       "4        0.0        0.0        0.0        0.0  ...        0.0        0.0   \n",
       "\n",
       "   pixel_7_0  pixel_7_1  pixel_7_2  pixel_7_3  pixel_7_4  pixel_7_5  \\\n",
       "0        0.0        0.0        6.0       13.0       10.0        0.0   \n",
       "1        0.0        0.0        0.0       11.0       16.0       10.0   \n",
       "2        0.0        0.0        0.0        3.0       11.0       16.0   \n",
       "3        0.0        0.0        7.0       13.0       13.0        9.0   \n",
       "4        0.0        0.0        0.0        2.0       16.0        4.0   \n",
       "\n",
       "   pixel_7_6  pixel_7_7  \n",
       "0        0.0        0.0  \n",
       "1        0.0        0.0  \n",
       "2        9.0        0.0  \n",
       "3        0.0        0.0  \n",
       "4        0.0        0.0  \n",
       "\n",
       "[5 rows x 64 columns]"
      ]
     },
     "execution_count": 74,
     "metadata": {},
     "output_type": "execute_result"
    }
   ],
   "source": [
    "# 데이터의 일부를 확인\n",
    "digi_ds.data.head()"
   ]
  },
  {
   "cell_type": "markdown",
   "metadata": {},
   "source": [
    "이 데이터를 통해 손글씨 이미지의 내용을 확인하고 싶을 경우에는\n",
    "\n",
    "우선, 1차원으로 이루어진 64개의 피쳐들을 8×8 의 2차원에 구성한다.\n",
    "\n",
    "그리고 matplotlib 의 imshow() 함수를 통해 데이터를 시각화 하여 확인할 수 있다."
   ]
  },
  {
   "cell_type": "code",
   "execution_count": 145,
   "metadata": {},
   "outputs": [
    {
     "name": "stdout",
     "output_type": "stream",
     "text": [
      "0\n",
      "[[ 0.  0.  5. 13.  9.  1.  0.  0.]\n",
      " [ 0.  0. 13. 15. 10. 15.  5.  0.]\n",
      " [ 0.  3. 15.  2.  0. 11.  8.  0.]\n",
      " [ 0.  4. 12.  0.  0.  8.  8.  0.]\n",
      " [ 0.  5.  8.  0.  0.  9.  8.  0.]\n",
      " [ 0.  4. 11.  0.  1. 12.  7.  0.]\n",
      " [ 0.  2. 14.  5. 10. 12.  0.  0.]\n",
      " [ 0.  0.  6. 13. 10.  0.  0.  0.]]\n"
     ]
    },
    {
     "data": {
      "image/png": "[encoded data removed]",
      "text/plain": [
       "<Figure size 640x480 with 1 Axes>"
      ]
     },
     "metadata": {},
     "output_type": "display_data"
    }
   ],
   "source": [
    "import numpy as np\n",
    "import pandas as pd\n",
    "import matplotlib.pyplot as plt\n",
    "%matplotlib inline\n",
    "\n",
    "# pandas datafrme 타입을 사용하지 않을 경우에는 아래는 오류가 발생\n",
    "# 아래 코드는 <class 'numpy.ndarray'> 타입일 경우에 사용하자\n",
    "# plt.imshow(digi_ds.data.loc[0].reshape(8, 8), cmap='gray')\n",
    "# plt.axis('off')\n",
    "# plt.show()\n",
    "\n",
    "# pandas dataframe type 에서 reshape 하려고 numpy 라이브러리를 사용했다.\n",
    "# print(digi_ds.data.loc[0].to_numpy().reshape(8,8))  ## numpy array 로 변경\n",
    "# plt.imshow(digi_ds.data.loc[0].to_numpy().reshape(8,8), cmap='gray')\n",
    "# plt.axis('off')\n",
    "# plt.show()\n",
    "\n",
    "\n",
    "# scikit-learn 라이브러리에서 데이터셋을 로드할 때에 파라메터를 통해 데이터 형식을 지정할 수 있다.\n",
    "# 여기서는 해당 타입에 따라 타입변환을 해서 출력을 하는 함수 digi_imshow 를 호출했다.\n",
    "# 우선 numpy.ndarray 와 pandas.dataframe 타입을 받도록 구성하였다.\n",
    "\n",
    "## type 문제 때문에 함수를 만들었다.\n",
    "def digi_imshow(digi_ds, idx):\n",
    "    #idx = int(idx)\n",
    "    print(idx)\n",
    "    if type(idx) is not int:\n",
    "        print(\"idx : integer\")\n",
    "        return; \n",
    "    #print(type(digi_ds.data))\n",
    "    if type(digi_ds.data) is np.ndarray:\n",
    "        plt.imshow(digi_ds.data.loc[idx].reshape(8, 8), cmap='gray')\n",
    "        plt.axis('off')\n",
    "        plt.show()\n",
    "    elif type(digi_ds.data) is pd.DataFrame:\n",
    "        print(digi_ds.data.loc[idx].to_numpy().reshape(8,8))\n",
    "        plt.imshow(digi_ds.data.loc[idx].to_numpy().reshape(8,8), cmap='gray')\n",
    "        plt.axis('off')\n",
    "        plt.show()\n",
    "\n",
    "digi_imshow(digi_ds, 0)"
   ]
  },
  {
   "cell_type": "markdown",
   "metadata": {},
   "source": [
    "데이터를 확인해보면, 어렴풋이 8×8 픽셀로 그려진 숫자를 확인 할 수 있다.\n",
    "\n",
    "위 코드에서는 별도의 함수를 선언하여 사용하였다."
   ]
  },
  {
   "cell_type": "markdown",
   "metadata": {},
   "source": [
    "이번에는 digit 데이터셋에 포함된 target 의 데이터를 살펴볼텐데\n",
    "\n",
    "데이터셋의 정보를 확인하는 과정에서 이용한 target 부분에서 라벨에 대한 내용을 확인 할 수 있다.\n",
    "\n",
    "라벨은 지도학습 방법에서 일종의 정답지 역할을 하는 데이터이며, 지도학습을 위한 데이터들이 들어가 있다."
   ]
  },
  {
   "cell_type": "code",
   "execution_count": 138,
   "metadata": {},
   "outputs": [
    {
     "data": {
      "text/plain": [
       "0    0\n",
       "1    1\n",
       "2    2\n",
       "3    3\n",
       "4    4\n",
       "Name: target, dtype: int32"
      ]
     },
     "execution_count": 138,
     "metadata": {},
     "output_type": "execute_result"
    }
   ],
   "source": [
    "# target 데이터를 확인해 보늡 방법은 간단하다.\n",
    "digi_ds.target.head()"
   ]
  },
  {
   "cell_type": "markdown",
   "metadata": {},
   "source": [
    "target 데이터를 따로 보니 구조가 한눈에 보이지 않는다.\n",
    "\n",
    "그래서 데이터프레임에 약간의 처리를 해 보겠다."
   ]
  },
  {
   "cell_type": "code",
   "execution_count": 161,
   "metadata": {},
   "outputs": [
    {
     "data": {
      "text/plain": [
       "1792    9\n",
       "1793    0\n",
       "1794    8\n",
       "1795    9\n",
       "1796    8\n",
       "Name: label, dtype: int32"
      ]
     },
     "execution_count": 161,
     "metadata": {},
     "output_type": "execute_result"
    }
   ],
   "source": [
    "## 새 데이터프레임을 만든다\n",
    "digi_df = pd.DataFrame(data=digi_ds.data, columns=digi_ds.feature_names)\n",
    "\n",
    "## 컬럼 label 을 추가하여 target 데이터를 보여주도록 설정. (라벨링)\n",
    "digi_df[\"label\"] = digi_ds.target\n",
    "\n",
    "## 끝에서 5번째 데이터까지만 출력\n",
    "digi_df[\"label\"].tail()\n"
   ]
  },
  {
   "cell_type": "markdown",
   "metadata": {},
   "source": [
    "이번엔 tail 함수를 통해 끝에서 5번째 까지의 데이터를 가져왔다.\n",
    "\n",
    "피쳐부분은 생략하였으니, 왼편에 인덱스 숫자, 그리고 오른편에 라벨 값을 확인 할 수 있다.\n",
    "\n",
    "그러면 아까 만든 함수 digi_imshow 를 이용해서 이 인덱스의 데이터를 시각화 한 다음\n",
    "\n",
    "라벨 값과 맞는지 확인을 해 보겠다."
   ]
  },
  {
   "cell_type": "code",
   "execution_count": 162,
   "metadata": {},
   "outputs": [
    {
     "name": "stdout",
     "output_type": "stream",
     "text": [
      "1793\n",
      "[[ 0.  0.  6. 16. 13. 11.  1.  0.]\n",
      " [ 0.  0. 16. 15. 12. 16.  1.  0.]\n",
      " [ 0.  3. 16.  7.  0. 13.  6.  0.]\n",
      " [ 0.  4. 16.  0.  0. 10.  8.  0.]\n",
      " [ 0.  8. 16.  0.  0. 14.  6.  0.]\n",
      " [ 0.  5. 16.  7.  9. 16.  5.  0.]\n",
      " [ 0.  1. 15. 16. 16. 16.  1.  0.]\n",
      " [ 0.  0.  6. 16. 14.  6.  0.  0.]]\n"
     ]
    },
    {
     "data": {
      "image/png": "[encoded data removed]",
      "text/plain": [
       "<Figure size 640x480 with 1 Axes>"
      ]
     },
     "metadata": {},
     "output_type": "display_data"
    },
    {
     "name": "stdout",
     "output_type": "stream",
     "text": [
      "1794\n",
      "[[ 0.  0.  1. 11. 15.  1.  0.  0.]\n",
      " [ 0.  0. 13. 16.  8.  2.  1.  0.]\n",
      " [ 0.  0. 16. 15. 10. 16.  5.  0.]\n",
      " [ 0.  0.  8. 16. 16.  7.  0.  0.]\n",
      " [ 0.  0.  9. 16. 16.  4.  0.  0.]\n",
      " [ 0.  0. 16. 14. 16. 15.  0.  0.]\n",
      " [ 0.  0. 15. 15. 15. 16.  0.  0.]\n",
      " [ 0.  0.  2.  9. 13.  6.  0.  0.]]\n"
     ]
    },
    {
     "data": {
      "image/png": "[encoded data removed]",
      "text/plain": [
       "<Figure size 640x480 with 1 Axes>"
      ]
     },
     "metadata": {},
     "output_type": "display_data"
    },
    {
     "name": "stdout",
     "output_type": "stream",
     "text": [
      "1795\n",
      "[[ 0.  0.  2. 10.  7.  0.  0.  0.]\n",
      " [ 0.  0. 14. 16. 16. 15.  1.  0.]\n",
      " [ 0.  4. 16.  7.  3. 16.  7.  0.]\n",
      " [ 0.  5. 16. 10.  7. 16.  4.  0.]\n",
      " [ 0.  0.  5. 14. 14. 16.  4.  0.]\n",
      " [ 0.  0.  0.  0.  0. 16.  2.  0.]\n",
      " [ 0.  0.  4.  7.  7. 16.  2.  0.]\n",
      " [ 0.  0.  5. 12. 16. 12.  0.  0.]]\n"
     ]
    },
    {
     "data": {
      "image/png": "[encoded data removed]",
      "text/plain": [
       "<Figure size 640x480 with 1 Axes>"
      ]
     },
     "metadata": {},
     "output_type": "display_data"
    },
    {
     "name": "stdout",
     "output_type": "stream",
     "text": [
      "1796\n",
      "[[ 0.  0. 10. 14.  8.  1.  0.  0.]\n",
      " [ 0.  2. 16. 14.  6.  1.  0.  0.]\n",
      " [ 0.  0. 15. 15.  8. 15.  0.  0.]\n",
      " [ 0.  0.  5. 16. 16. 10.  0.  0.]\n",
      " [ 0.  0. 12. 15. 15. 12.  0.  0.]\n",
      " [ 0.  4. 16.  6.  4. 16.  6.  0.]\n",
      " [ 0.  8. 16. 10.  8. 16.  8.  0.]\n",
      " [ 0.  1.  8. 12. 14. 12.  1.  0.]]\n"
     ]
    },
    {
     "data": {
      "image/png": "[encoded data removed]",
      "text/plain": [
       "<Figure size 640x480 with 1 Axes>"
      ]
     },
     "metadata": {},
     "output_type": "display_data"
    }
   ],
   "source": [
    "## digit 데이터셋의 tail() 값. 맨 끝의 데이터에서 5개만 가져온다.\n",
    "# index   label\n",
    "# 1792    9\n",
    "# 1793    0\n",
    "# 1794    8\n",
    "# 1795    9\n",
    "# 1796    8\n",
    "\n",
    "digi_imshow(digi_ds, 1793)      # 0\n",
    "digi_imshow(digi_ds, 1794)      # 8\n",
    "digi_imshow(digi_ds, 1795)      # 9\n",
    "digi_imshow(digi_ds, 1796)      # 8"
   ]
  },
  {
   "cell_type": "markdown",
   "metadata": {},
   "source": [
    "이렇게 라벨과 데이터를 매칭시켜보고 확인 해 보면\n",
    "\n",
    "라벨의 값이, 손글씨로 표현한 숫자임을 확인 할 수 있었다."
   ]
  },
  {
   "cell_type": "markdown",
   "metadata": {},
   "source": [
    "digit 데이터는 손글씨 이미지를 변환한 것인데, 이를 표현하려면 결측값이 있으면 곤란하다.\n",
    "\n",
    "DESCR 에서도 확인 했지만 (Missing Attribute Values: None) 혹시 모르니\n",
    "\n",
    "특징데이터에 결측값이 있는지 한번 검토 해 보는 방법은\n",
    "\n",
    "isna 함수와 sum 함수를 이용하여 결측값을 파악하는것이 가능하다."
   ]
  },
  {
   "cell_type": "code",
   "execution_count": 166,
   "metadata": {},
   "outputs": [
    {
     "data": {
      "text/plain": [
       "pixel_0_0    0\n",
       "pixel_0_1    0\n",
       "pixel_0_2    0\n",
       "pixel_0_3    0\n",
       "pixel_0_4    0\n",
       "            ..\n",
       "pixel_7_4    0\n",
       "pixel_7_5    0\n",
       "pixel_7_6    0\n",
       "pixel_7_7    0\n",
       "label        0\n",
       "Length: 65, dtype: int64"
      ]
     },
     "execution_count": 166,
     "metadata": {},
     "output_type": "execute_result"
    }
   ],
   "source": [
    "## digit dataframe 에서 각 컬럼별로 결측값의 수량을 파악\n",
    "digi_df.isna().sum()"
   ]
  },
  {
   "cell_type": "markdown",
   "metadata": {},
   "source": [
    "역시나 결측값은 없는 것을 확인 할 수 있다.\n",
    "\n",
    ">현재 손글씨 데이터의 경우\n",
    ">\n",
    ">8×8 픽셀의 64개의 특징 데이터가 존재 하지만, 이는 손글씨 숫자 이미지 1개와 다를 바 없다.\n",
    ">\n",
    ">논리적으로는 데이터와 타겟이 1:1 매칭 관계라고 볼 수 있어서, \n",
    ">\n",
    ">중복데이터가 있다거나 연관이 없다거나, 무의미한 특징 값이 딱히 없기 때문에\n",
    ">\n",
    ">더이상 EDA를 수행 할 필요가 없다고 생각된다."
   ]
  },
  {
   "cell_type": "markdown",
   "metadata": {},
   "source": [
    "지금까지 digit dataset 의 데이터 특징에 대해서 검토를 해 보았다.\n",
    "\n",
    "+ digit 데이터는, 16단계의 회색 픽셀 데이터를 8×8 (64개의 픽셀) 형태로 가지고 있다.\n",
    "\n",
    "+ 라벨 값은 머신러닝을 통해 학습시킬 일종의 정답이라고 할 수 있는 데이터를 가지고 있다."
   ]
  },
  {
   "cell_type": "markdown",
   "metadata": {},
   "source": [
    "### 2) digit 데이터셋 분리"
   ]
  },
  {
   "cell_type": "markdown",
   "metadata": {},
   "source": [
    "앞서 살펴본 내용은, scikit-learn 라이브러리에서 제공하는 Toy dataset 을 이용하여\n",
    "\n",
    "머신러닝에 학습할 데이터를 가져와서 준비하고 분석하는 과정을 거쳤다."
   ]
  },
  {
   "cell_type": "markdown",
   "metadata": {},
   "source": [
    "다음에는 5가지 모델을 통한 머신러닝과 예측을 하는 과정을 수행하는 과정으로 진행을 하게 되는데.\n",
    "\n",
    "그에 앞서서 데이터셋의 분리를 진행해야 한다."
   ]
  },
  {
   "cell_type": "markdown",
   "metadata": {},
   "source": [
    "이 프로젝트에서의 머신러닝 학습 방법은, 지도학습(Supervised Learning)을 사용한다.\n",
    "\n",
    "지도학습이란, 정답 결과가 있는 데이터들을 통하여 머신러닝하는 방법을 의미한다.\n",
    "\n",
    "지도학습은 크게 __분류(Classification)__ 와 __회귀(Regression)__ 로 구분할 수 있는데,\n",
    "\n",
    "여기서는 데이터들을 분류하는 문제들을 다루고 있다.\n",
    "\n",
    "앞서 불러온 3종류의 데이터셋 모두 데이터들의 특징들을 학습하고,\n",
    "\n",
    "그 학습을 토대로, 데이터가 어떤 분류에 해당하는지 예측하고 분류할 것이다."
   ]
  },
  {
   "cell_type": "markdown",
   "metadata": {},
   "source": [
    "지도학습의 경우, 데이터셋의 분리가 필요한데, 여기서 말하는 데이터셋의 분리란\n",
    "\n",
    "지도학습을 위한 데이터와, 학습의 결과로 예측 결과를 평가하기 위한 데이터를\n",
    "\n",
    "먼저 분리를 하여 학습을 위한 데이터로 학습을 진행해야 할 필요가 있다."
   ]
  },
  {
   "cell_type": "markdown",
   "metadata": {},
   "source": [
    "그 이유를 비유하자면, 라벨링 된 전체 데이터를 통하여 학습을 수행하고, \n",
    "\n",
    "해당 데이터로 다시 예측을 하게 될 경우에는\n",
    "\n",
    "학습 결과의 공정성과 타당성에 대한 문제가 있기 때문이다.\n",
    "\n",
    "우리가 어떤 과목의 전체 시험문제와 답안을 미리 학습하였는데,\n",
    "\n",
    "실제 시험에서 동일한 문제와 답안이 있다면？\n",
    "\n",
    "그 학습의 결과를 제대로 판단하기 어려워진다."
   ]
  },
  {
   "cell_type": "markdown",
   "metadata": {},
   "source": [
    "그러한 이유로 지도학습의 경우 라벨링 이루어진 데이터의 어느 부분은\n",
    "\n",
    "학습에 이용하지 않은 상태로 남겨두고, 그 외의 데이터들로 학습을 수행한다.\n",
    "\n",
    "여기서 학습에 쓰이지 않은 데이터들은 모델 학습의 예측 결과를 바탕으로\n",
    "\n",
    "예측이 어느정도 정확한지 측정하는 등의 용도로 사용하게 된다."
   ]
  },
  {
   "cell_type": "markdown",
   "metadata": {},
   "source": [
    "scikit-learn 라이브러리에서는 데이터셋 분리를 위해 편리하게 사용할 수 있는\n",
    "\n",
    "train_test_split 이라는 함수를 제공하고 있다."
   ]
  },
  {
   "cell_type": "code",
   "execution_count": 232,
   "metadata": {},
   "outputs": [
    {
     "name": "stdout",
     "output_type": "stream",
     "text": [
      "x_train 개수:  1437 , x_test 개수:  360\n"
     ]
    }
   ],
   "source": [
    "# sklearn.model_selection 패키지의 train_test_split을 활용하여, \n",
    "# 다음과 같이 training dataset과 test dataset을 간단히 분리할 수 있다.\n",
    "\n",
    "from sklearn.model_selection import train_test_split\n",
    "\n",
    "## X_train : 학습용 데이터\n",
    "## X_test : 테스트용 데이터\n",
    "x_train, x_test, y_train, y_test = train_test_split(digi_ds.data,       ## 첫번째 매개변수 data : feature. 특징 데이터. 일종의 문제지\n",
    "                                                    digi_ds.target,     ## 두번째 매개변수 target : 모델이 맞추어야 하는 정답 값.\n",
    "                                                    test_size=0.2,      ## test_size : 테스트 데이터셋의 크기를 조절. 0.2 = 20％를 테스트 데이터로 사용\n",
    "                                                    random_state=5)     ## random_State : train 데이터와 test 데이터를 분리시 적용할 랜덤성 결정\n",
    "\n",
    "print('x_train 개수: ', len(x_train),', x_test 개수: ', len(x_test))    ## 데이터셋 분리의 결과 : X_train 개수, X_test 개수의 출력"
   ]
  },
  {
   "cell_type": "markdown",
   "metadata": {},
   "source": [
    "train_test_split 의 함수의 사용법은 위의 코드에서 확인 할 수 있다.\n",
    "\n",
    " - 첫번째 매개변수는 특징 데이터를 지정한다\n",
    "\n",
    " - 두번째 매개변수에 타겟을 지정한다. 정답을 의미한다.\n",
    "\n",
    " - 세번째 매개변수는 테스트 데이터의 비율을 조정한다. 0.2 = 20％를 테스트 데이터로 사용하고, 남은 80％ 데이터는 학습에 사용한다\n",
    " \n",
    " - 네번째 매개변수는 랜덤에 관한 설정이다.\n",
    " \n",
    "이 함수의 반환값을 언패킹해서 4개의 변수에 데이터를 담아, 학습에 사용하게 된다."
   ]
  },
  {
   "cell_type": "markdown",
   "metadata": {},
   "source": [
    "여기서 네번째 매개변수의 __random_state__ 에는 특징적인 역할이 있다.\n",
    "\n",
    "이 파라메터를 지정하는 첫번째 이유는, 랜덤하게 데이터를 추출하기 위함이다.\n",
    "\n",
    "데이터셋 내부의 데이터가 특정 순서대로 정렬이 되어 있는 경우에는\n",
    "\n",
    "데이터를 랜덤성있게 섞는 과정을 거치지 않을 경우, 다양한 학습이 이루어지기 어려워진다.\n",
    "\n",
    "인덱스 순서상 후반에 정렬 결과로 자리잡고 있는 데이터들이 학습 과정에서 누락되게 되기 때문이다.\n",
    "\n",
    "두번째 이유는, random_state 를 이용하면 랜덤이긴 하지만 재현 가능한 랜덤으로,\n",
    "\n",
    "매번 랜덤을 통한 결과를 동일하게 하는데에 목적이 있다.\n",
    "\n",
    "random_state 뒤에 따라붙는 seed 값이 같다면, 여러번 데이터의 분리를 수행하며\n",
    "\n",
    "랜덤을 거치더라도, 그 결과 데이터셋의 레코드는 늘 동일하게 나오도록 되어있다.\n",
    "\n",
    "이는 이 테스트의 결과를 어디에서나 재현가능하게 하기 위함이다."
   ]
  },
  {
   "cell_type": "markdown",
   "metadata": {},
   "source": [
    "코드를 통해 테스트 해 보면 다음과 같다"
   ]
  },
  {
   "cell_type": "code",
   "execution_count": 173,
   "metadata": {},
   "outputs": [
    {
     "data": {
      "text/html": [
       "<div>\n",
       "<style scoped>\n",
       "    .dataframe tbody tr th:only-of-type {\n",
       "        vertical-align: middle;\n",
       "    }\n",
       "\n",
       "    .dataframe tbody tr th {\n",
       "        vertical-align: top;\n",
       "    }\n",
       "\n",
       "    .dataframe thead th {\n",
       "        text-align: right;\n",
       "    }\n",
       "</style>\n",
       "<table border=\"1\" class=\"dataframe\">\n",
       "  <thead>\n",
       "    <tr style=\"text-align: right;\">\n",
       "      <th></th>\n",
       "      <th>pixel_0_0</th>\n",
       "      <th>pixel_0_1</th>\n",
       "      <th>pixel_0_2</th>\n",
       "      <th>pixel_0_3</th>\n",
       "      <th>pixel_0_4</th>\n",
       "      <th>pixel_0_5</th>\n",
       "      <th>pixel_0_6</th>\n",
       "      <th>pixel_0_7</th>\n",
       "      <th>pixel_1_0</th>\n",
       "      <th>pixel_1_1</th>\n",
       "      <th>...</th>\n",
       "      <th>pixel_6_6</th>\n",
       "      <th>pixel_6_7</th>\n",
       "      <th>pixel_7_0</th>\n",
       "      <th>pixel_7_1</th>\n",
       "      <th>pixel_7_2</th>\n",
       "      <th>pixel_7_3</th>\n",
       "      <th>pixel_7_4</th>\n",
       "      <th>pixel_7_5</th>\n",
       "      <th>pixel_7_6</th>\n",
       "      <th>pixel_7_7</th>\n",
       "    </tr>\n",
       "  </thead>\n",
       "  <tbody>\n",
       "    <tr>\n",
       "      <th>163</th>\n",
       "      <td>0.0</td>\n",
       "      <td>6.0</td>\n",
       "      <td>16.0</td>\n",
       "      <td>16.0</td>\n",
       "      <td>16.0</td>\n",
       "      <td>15.0</td>\n",
       "      <td>10.0</td>\n",
       "      <td>0.0</td>\n",
       "      <td>0.0</td>\n",
       "      <td>9.0</td>\n",
       "      <td>...</td>\n",
       "      <td>0.0</td>\n",
       "      <td>0.0</td>\n",
       "      <td>0.0</td>\n",
       "      <td>9.0</td>\n",
       "      <td>16.0</td>\n",
       "      <td>11.0</td>\n",
       "      <td>0.0</td>\n",
       "      <td>0.0</td>\n",
       "      <td>0.0</td>\n",
       "      <td>0.0</td>\n",
       "    </tr>\n",
       "    <tr>\n",
       "      <th>292</th>\n",
       "      <td>0.0</td>\n",
       "      <td>0.0</td>\n",
       "      <td>9.0</td>\n",
       "      <td>16.0</td>\n",
       "      <td>15.0</td>\n",
       "      <td>14.0</td>\n",
       "      <td>1.0</td>\n",
       "      <td>0.0</td>\n",
       "      <td>0.0</td>\n",
       "      <td>1.0</td>\n",
       "      <td>...</td>\n",
       "      <td>0.0</td>\n",
       "      <td>0.0</td>\n",
       "      <td>0.0</td>\n",
       "      <td>0.0</td>\n",
       "      <td>8.0</td>\n",
       "      <td>15.0</td>\n",
       "      <td>10.0</td>\n",
       "      <td>1.0</td>\n",
       "      <td>0.0</td>\n",
       "      <td>0.0</td>\n",
       "    </tr>\n",
       "    <tr>\n",
       "      <th>1691</th>\n",
       "      <td>0.0</td>\n",
       "      <td>0.0</td>\n",
       "      <td>0.0</td>\n",
       "      <td>2.0</td>\n",
       "      <td>14.0</td>\n",
       "      <td>2.0</td>\n",
       "      <td>0.0</td>\n",
       "      <td>0.0</td>\n",
       "      <td>0.0</td>\n",
       "      <td>0.0</td>\n",
       "      <td>...</td>\n",
       "      <td>0.0</td>\n",
       "      <td>0.0</td>\n",
       "      <td>0.0</td>\n",
       "      <td>0.0</td>\n",
       "      <td>0.0</td>\n",
       "      <td>1.0</td>\n",
       "      <td>13.0</td>\n",
       "      <td>1.0</td>\n",
       "      <td>0.0</td>\n",
       "      <td>0.0</td>\n",
       "    </tr>\n",
       "    <tr>\n",
       "      <th>1325</th>\n",
       "      <td>0.0</td>\n",
       "      <td>0.0</td>\n",
       "      <td>7.0</td>\n",
       "      <td>10.0</td>\n",
       "      <td>16.0</td>\n",
       "      <td>9.0</td>\n",
       "      <td>0.0</td>\n",
       "      <td>0.0</td>\n",
       "      <td>0.0</td>\n",
       "      <td>0.0</td>\n",
       "      <td>...</td>\n",
       "      <td>0.0</td>\n",
       "      <td>0.0</td>\n",
       "      <td>0.0</td>\n",
       "      <td>0.0</td>\n",
       "      <td>9.0</td>\n",
       "      <td>16.0</td>\n",
       "      <td>14.0</td>\n",
       "      <td>0.0</td>\n",
       "      <td>0.0</td>\n",
       "      <td>0.0</td>\n",
       "    </tr>\n",
       "    <tr>\n",
       "      <th>1490</th>\n",
       "      <td>0.0</td>\n",
       "      <td>2.0</td>\n",
       "      <td>15.0</td>\n",
       "      <td>13.0</td>\n",
       "      <td>1.0</td>\n",
       "      <td>0.0</td>\n",
       "      <td>0.0</td>\n",
       "      <td>0.0</td>\n",
       "      <td>0.0</td>\n",
       "      <td>13.0</td>\n",
       "      <td>...</td>\n",
       "      <td>12.0</td>\n",
       "      <td>0.0</td>\n",
       "      <td>0.0</td>\n",
       "      <td>3.0</td>\n",
       "      <td>16.0</td>\n",
       "      <td>14.0</td>\n",
       "      <td>8.0</td>\n",
       "      <td>8.0</td>\n",
       "      <td>7.0</td>\n",
       "      <td>0.0</td>\n",
       "    </tr>\n",
       "  </tbody>\n",
       "</table>\n",
       "<p>5 rows × 64 columns</p>\n",
       "</div>"
      ],
      "text/plain": [
       "      pixel_0_0  pixel_0_1  pixel_0_2  pixel_0_3  pixel_0_4  pixel_0_5  \\\n",
       "163         0.0        6.0       16.0       16.0       16.0       15.0   \n",
       "292         0.0        0.0        9.0       16.0       15.0       14.0   \n",
       "1691        0.0        0.0        0.0        2.0       14.0        2.0   \n",
       "1325        0.0        0.0        7.0       10.0       16.0        9.0   \n",
       "1490        0.0        2.0       15.0       13.0        1.0        0.0   \n",
       "\n",
       "      pixel_0_6  pixel_0_7  pixel_1_0  pixel_1_1  ...  pixel_6_6  pixel_6_7  \\\n",
       "163        10.0        0.0        0.0        9.0  ...        0.0        0.0   \n",
       "292         1.0        0.0        0.0        1.0  ...        0.0        0.0   \n",
       "1691        0.0        0.0        0.0        0.0  ...        0.0        0.0   \n",
       "1325        0.0        0.0        0.0        0.0  ...        0.0        0.0   \n",
       "1490        0.0        0.0        0.0       13.0  ...       12.0        0.0   \n",
       "\n",
       "      pixel_7_0  pixel_7_1  pixel_7_2  pixel_7_3  pixel_7_4  pixel_7_5  \\\n",
       "163         0.0        9.0       16.0       11.0        0.0        0.0   \n",
       "292         0.0        0.0        8.0       15.0       10.0        1.0   \n",
       "1691        0.0        0.0        0.0        1.0       13.0        1.0   \n",
       "1325        0.0        0.0        9.0       16.0       14.0        0.0   \n",
       "1490        0.0        3.0       16.0       14.0        8.0        8.0   \n",
       "\n",
       "      pixel_7_6  pixel_7_7  \n",
       "163         0.0        0.0  \n",
       "292         0.0        0.0  \n",
       "1691        0.0        0.0  \n",
       "1325        0.0        0.0  \n",
       "1490        7.0        0.0  \n",
       "\n",
       "[5 rows x 64 columns]"
      ]
     },
     "execution_count": 173,
     "metadata": {},
     "output_type": "execute_result"
    }
   ],
   "source": [
    "## 여기서는 random_state 를 지정하지 않았다.\n",
    "X_train, X_test, y_train, y_test = train_test_split(digi_ds.data,\n",
    "                                                    digi_ds.target,\n",
    "                                                    test_size=0.2)\n",
    "X_train.head()"
   ]
  },
  {
   "cell_type": "code",
   "execution_count": 175,
   "metadata": {},
   "outputs": [
    {
     "data": {
      "text/html": [
       "<div>\n",
       "<style scoped>\n",
       "    .dataframe tbody tr th:only-of-type {\n",
       "        vertical-align: middle;\n",
       "    }\n",
       "\n",
       "    .dataframe tbody tr th {\n",
       "        vertical-align: top;\n",
       "    }\n",
       "\n",
       "    .dataframe thead th {\n",
       "        text-align: right;\n",
       "    }\n",
       "</style>\n",
       "<table border=\"1\" class=\"dataframe\">\n",
       "  <thead>\n",
       "    <tr style=\"text-align: right;\">\n",
       "      <th></th>\n",
       "      <th>pixel_0_0</th>\n",
       "      <th>pixel_0_1</th>\n",
       "      <th>pixel_0_2</th>\n",
       "      <th>pixel_0_3</th>\n",
       "      <th>pixel_0_4</th>\n",
       "      <th>pixel_0_5</th>\n",
       "      <th>pixel_0_6</th>\n",
       "      <th>pixel_0_7</th>\n",
       "      <th>pixel_1_0</th>\n",
       "      <th>pixel_1_1</th>\n",
       "      <th>...</th>\n",
       "      <th>pixel_6_6</th>\n",
       "      <th>pixel_6_7</th>\n",
       "      <th>pixel_7_0</th>\n",
       "      <th>pixel_7_1</th>\n",
       "      <th>pixel_7_2</th>\n",
       "      <th>pixel_7_3</th>\n",
       "      <th>pixel_7_4</th>\n",
       "      <th>pixel_7_5</th>\n",
       "      <th>pixel_7_6</th>\n",
       "      <th>pixel_7_7</th>\n",
       "    </tr>\n",
       "  </thead>\n",
       "  <tbody>\n",
       "    <tr>\n",
       "      <th>892</th>\n",
       "      <td>0.0</td>\n",
       "      <td>0.0</td>\n",
       "      <td>10.0</td>\n",
       "      <td>15.0</td>\n",
       "      <td>13.0</td>\n",
       "      <td>1.0</td>\n",
       "      <td>0.0</td>\n",
       "      <td>0.0</td>\n",
       "      <td>0.0</td>\n",
       "      <td>4.0</td>\n",
       "      <td>...</td>\n",
       "      <td>3.0</td>\n",
       "      <td>0.0</td>\n",
       "      <td>0.0</td>\n",
       "      <td>0.0</td>\n",
       "      <td>10.0</td>\n",
       "      <td>16.0</td>\n",
       "      <td>12.0</td>\n",
       "      <td>3.0</td>\n",
       "      <td>0.0</td>\n",
       "      <td>0.0</td>\n",
       "    </tr>\n",
       "    <tr>\n",
       "      <th>65</th>\n",
       "      <td>0.0</td>\n",
       "      <td>0.0</td>\n",
       "      <td>0.0</td>\n",
       "      <td>9.0</td>\n",
       "      <td>10.0</td>\n",
       "      <td>0.0</td>\n",
       "      <td>0.0</td>\n",
       "      <td>0.0</td>\n",
       "      <td>0.0</td>\n",
       "      <td>0.0</td>\n",
       "      <td>...</td>\n",
       "      <td>14.0</td>\n",
       "      <td>0.0</td>\n",
       "      <td>0.0</td>\n",
       "      <td>0.0</td>\n",
       "      <td>0.0</td>\n",
       "      <td>6.0</td>\n",
       "      <td>12.0</td>\n",
       "      <td>14.0</td>\n",
       "      <td>9.0</td>\n",
       "      <td>0.0</td>\n",
       "    </tr>\n",
       "    <tr>\n",
       "      <th>425</th>\n",
       "      <td>0.0</td>\n",
       "      <td>1.0</td>\n",
       "      <td>7.0</td>\n",
       "      <td>12.0</td>\n",
       "      <td>13.0</td>\n",
       "      <td>3.0</td>\n",
       "      <td>0.0</td>\n",
       "      <td>0.0</td>\n",
       "      <td>0.0</td>\n",
       "      <td>7.0</td>\n",
       "      <td>...</td>\n",
       "      <td>8.0</td>\n",
       "      <td>0.0</td>\n",
       "      <td>0.0</td>\n",
       "      <td>0.0</td>\n",
       "      <td>5.0</td>\n",
       "      <td>12.0</td>\n",
       "      <td>16.0</td>\n",
       "      <td>11.0</td>\n",
       "      <td>1.0</td>\n",
       "      <td>0.0</td>\n",
       "    </tr>\n",
       "    <tr>\n",
       "      <th>739</th>\n",
       "      <td>0.0</td>\n",
       "      <td>0.0</td>\n",
       "      <td>5.0</td>\n",
       "      <td>12.0</td>\n",
       "      <td>12.0</td>\n",
       "      <td>8.0</td>\n",
       "      <td>1.0</td>\n",
       "      <td>0.0</td>\n",
       "      <td>0.0</td>\n",
       "      <td>0.0</td>\n",
       "      <td>...</td>\n",
       "      <td>0.0</td>\n",
       "      <td>0.0</td>\n",
       "      <td>0.0</td>\n",
       "      <td>0.0</td>\n",
       "      <td>2.0</td>\n",
       "      <td>10.0</td>\n",
       "      <td>12.0</td>\n",
       "      <td>0.0</td>\n",
       "      <td>0.0</td>\n",
       "      <td>0.0</td>\n",
       "    </tr>\n",
       "    <tr>\n",
       "      <th>1373</th>\n",
       "      <td>0.0</td>\n",
       "      <td>1.0</td>\n",
       "      <td>8.0</td>\n",
       "      <td>16.0</td>\n",
       "      <td>15.0</td>\n",
       "      <td>0.0</td>\n",
       "      <td>0.0</td>\n",
       "      <td>0.0</td>\n",
       "      <td>0.0</td>\n",
       "      <td>4.0</td>\n",
       "      <td>...</td>\n",
       "      <td>0.0</td>\n",
       "      <td>0.0</td>\n",
       "      <td>0.0</td>\n",
       "      <td>0.0</td>\n",
       "      <td>14.0</td>\n",
       "      <td>8.0</td>\n",
       "      <td>0.0</td>\n",
       "      <td>0.0</td>\n",
       "      <td>0.0</td>\n",
       "      <td>0.0</td>\n",
       "    </tr>\n",
       "  </tbody>\n",
       "</table>\n",
       "<p>5 rows × 64 columns</p>\n",
       "</div>"
      ],
      "text/plain": [
       "      pixel_0_0  pixel_0_1  pixel_0_2  pixel_0_3  pixel_0_4  pixel_0_5  \\\n",
       "892         0.0        0.0       10.0       15.0       13.0        1.0   \n",
       "65          0.0        0.0        0.0        9.0       10.0        0.0   \n",
       "425         0.0        1.0        7.0       12.0       13.0        3.0   \n",
       "739         0.0        0.0        5.0       12.0       12.0        8.0   \n",
       "1373        0.0        1.0        8.0       16.0       15.0        0.0   \n",
       "\n",
       "      pixel_0_6  pixel_0_7  pixel_1_0  pixel_1_1  ...  pixel_6_6  pixel_6_7  \\\n",
       "892         0.0        0.0        0.0        4.0  ...        3.0        0.0   \n",
       "65          0.0        0.0        0.0        0.0  ...       14.0        0.0   \n",
       "425         0.0        0.0        0.0        7.0  ...        8.0        0.0   \n",
       "739         1.0        0.0        0.0        0.0  ...        0.0        0.0   \n",
       "1373        0.0        0.0        0.0        4.0  ...        0.0        0.0   \n",
       "\n",
       "      pixel_7_0  pixel_7_1  pixel_7_2  pixel_7_3  pixel_7_4  pixel_7_5  \\\n",
       "892         0.0        0.0       10.0       16.0       12.0        3.0   \n",
       "65          0.0        0.0        0.0        6.0       12.0       14.0   \n",
       "425         0.0        0.0        5.0       12.0       16.0       11.0   \n",
       "739         0.0        0.0        2.0       10.0       12.0        0.0   \n",
       "1373        0.0        0.0       14.0        8.0        0.0        0.0   \n",
       "\n",
       "      pixel_7_6  pixel_7_7  \n",
       "892         0.0        0.0  \n",
       "65          9.0        0.0  \n",
       "425         1.0        0.0  \n",
       "739         0.0        0.0  \n",
       "1373        0.0        0.0  \n",
       "\n",
       "[5 rows x 64 columns]"
      ]
     },
     "execution_count": 175,
     "metadata": {},
     "output_type": "execute_result"
    }
   ],
   "source": [
    "## 여기서는 random_state 를 지정하지 않았다.\n",
    "X_train, X_test, y_train, y_test = train_test_split(digi_ds.data,\n",
    "                                                    digi_ds.target,\n",
    "                                                    test_size=0.2)\n",
    "X_train.head()"
   ]
  },
  {
   "cell_type": "markdown",
   "metadata": {},
   "source": [
    "head 함수를 통해 5줄만 확인해 봤음에도, 매번 그 값이 다른것을 확인할 수 있다."
   ]
  },
  {
   "cell_type": "markdown",
   "metadata": {},
   "source": [
    "반면, 이하에서는 random_state=5 를 지정하고, \n",
    "\n",
    "실행을 반복하여 값을 확인해보면 동일한 결과가 나올 것으로 예상된다."
   ]
  },
  {
   "cell_type": "code",
   "execution_count": 176,
   "metadata": {},
   "outputs": [
    {
     "data": {
      "text/html": [
       "<div>\n",
       "<style scoped>\n",
       "    .dataframe tbody tr th:only-of-type {\n",
       "        vertical-align: middle;\n",
       "    }\n",
       "\n",
       "    .dataframe tbody tr th {\n",
       "        vertical-align: top;\n",
       "    }\n",
       "\n",
       "    .dataframe thead th {\n",
       "        text-align: right;\n",
       "    }\n",
       "</style>\n",
       "<table border=\"1\" class=\"dataframe\">\n",
       "  <thead>\n",
       "    <tr style=\"text-align: right;\">\n",
       "      <th></th>\n",
       "      <th>pixel_0_0</th>\n",
       "      <th>pixel_0_1</th>\n",
       "      <th>pixel_0_2</th>\n",
       "      <th>pixel_0_3</th>\n",
       "      <th>pixel_0_4</th>\n",
       "      <th>pixel_0_5</th>\n",
       "      <th>pixel_0_6</th>\n",
       "      <th>pixel_0_7</th>\n",
       "      <th>pixel_1_0</th>\n",
       "      <th>pixel_1_1</th>\n",
       "      <th>...</th>\n",
       "      <th>pixel_6_6</th>\n",
       "      <th>pixel_6_7</th>\n",
       "      <th>pixel_7_0</th>\n",
       "      <th>pixel_7_1</th>\n",
       "      <th>pixel_7_2</th>\n",
       "      <th>pixel_7_3</th>\n",
       "      <th>pixel_7_4</th>\n",
       "      <th>pixel_7_5</th>\n",
       "      <th>pixel_7_6</th>\n",
       "      <th>pixel_7_7</th>\n",
       "    </tr>\n",
       "  </thead>\n",
       "  <tbody>\n",
       "    <tr>\n",
       "      <th>203</th>\n",
       "      <td>0.0</td>\n",
       "      <td>0.0</td>\n",
       "      <td>10.0</td>\n",
       "      <td>15.0</td>\n",
       "      <td>7.0</td>\n",
       "      <td>0.0</td>\n",
       "      <td>0.0</td>\n",
       "      <td>0.0</td>\n",
       "      <td>0.0</td>\n",
       "      <td>4.0</td>\n",
       "      <td>...</td>\n",
       "      <td>0.0</td>\n",
       "      <td>0.0</td>\n",
       "      <td>0.0</td>\n",
       "      <td>1.0</td>\n",
       "      <td>12.0</td>\n",
       "      <td>15.0</td>\n",
       "      <td>12.0</td>\n",
       "      <td>3.0</td>\n",
       "      <td>0.0</td>\n",
       "      <td>0.0</td>\n",
       "    </tr>\n",
       "    <tr>\n",
       "      <th>1697</th>\n",
       "      <td>0.0</td>\n",
       "      <td>0.0</td>\n",
       "      <td>7.0</td>\n",
       "      <td>12.0</td>\n",
       "      <td>13.0</td>\n",
       "      <td>2.0</td>\n",
       "      <td>0.0</td>\n",
       "      <td>0.0</td>\n",
       "      <td>0.0</td>\n",
       "      <td>0.0</td>\n",
       "      <td>...</td>\n",
       "      <td>1.0</td>\n",
       "      <td>0.0</td>\n",
       "      <td>0.0</td>\n",
       "      <td>0.0</td>\n",
       "      <td>6.0</td>\n",
       "      <td>14.0</td>\n",
       "      <td>14.0</td>\n",
       "      <td>4.0</td>\n",
       "      <td>0.0</td>\n",
       "      <td>0.0</td>\n",
       "    </tr>\n",
       "    <tr>\n",
       "      <th>1745</th>\n",
       "      <td>0.0</td>\n",
       "      <td>0.0</td>\n",
       "      <td>7.0</td>\n",
       "      <td>14.0</td>\n",
       "      <td>8.0</td>\n",
       "      <td>4.0</td>\n",
       "      <td>0.0</td>\n",
       "      <td>0.0</td>\n",
       "      <td>0.0</td>\n",
       "      <td>0.0</td>\n",
       "      <td>...</td>\n",
       "      <td>0.0</td>\n",
       "      <td>0.0</td>\n",
       "      <td>0.0</td>\n",
       "      <td>0.0</td>\n",
       "      <td>6.0</td>\n",
       "      <td>13.0</td>\n",
       "      <td>7.0</td>\n",
       "      <td>0.0</td>\n",
       "      <td>0.0</td>\n",
       "      <td>0.0</td>\n",
       "    </tr>\n",
       "    <tr>\n",
       "      <th>23</th>\n",
       "      <td>0.0</td>\n",
       "      <td>1.0</td>\n",
       "      <td>8.0</td>\n",
       "      <td>12.0</td>\n",
       "      <td>15.0</td>\n",
       "      <td>14.0</td>\n",
       "      <td>4.0</td>\n",
       "      <td>0.0</td>\n",
       "      <td>0.0</td>\n",
       "      <td>3.0</td>\n",
       "      <td>...</td>\n",
       "      <td>0.0</td>\n",
       "      <td>0.0</td>\n",
       "      <td>0.0</td>\n",
       "      <td>0.0</td>\n",
       "      <td>14.0</td>\n",
       "      <td>15.0</td>\n",
       "      <td>11.0</td>\n",
       "      <td>2.0</td>\n",
       "      <td>0.0</td>\n",
       "      <td>0.0</td>\n",
       "    </tr>\n",
       "    <tr>\n",
       "      <th>798</th>\n",
       "      <td>0.0</td>\n",
       "      <td>3.0</td>\n",
       "      <td>16.0</td>\n",
       "      <td>15.0</td>\n",
       "      <td>6.0</td>\n",
       "      <td>0.0</td>\n",
       "      <td>0.0</td>\n",
       "      <td>0.0</td>\n",
       "      <td>0.0</td>\n",
       "      <td>5.0</td>\n",
       "      <td>...</td>\n",
       "      <td>5.0</td>\n",
       "      <td>0.0</td>\n",
       "      <td>0.0</td>\n",
       "      <td>4.0</td>\n",
       "      <td>16.0</td>\n",
       "      <td>16.0</td>\n",
       "      <td>16.0</td>\n",
       "      <td>14.0</td>\n",
       "      <td>3.0</td>\n",
       "      <td>0.0</td>\n",
       "    </tr>\n",
       "  </tbody>\n",
       "</table>\n",
       "<p>5 rows × 64 columns</p>\n",
       "</div>"
      ],
      "text/plain": [
       "      pixel_0_0  pixel_0_1  pixel_0_2  pixel_0_3  pixel_0_4  pixel_0_5  \\\n",
       "203         0.0        0.0       10.0       15.0        7.0        0.0   \n",
       "1697        0.0        0.0        7.0       12.0       13.0        2.0   \n",
       "1745        0.0        0.0        7.0       14.0        8.0        4.0   \n",
       "23          0.0        1.0        8.0       12.0       15.0       14.0   \n",
       "798         0.0        3.0       16.0       15.0        6.0        0.0   \n",
       "\n",
       "      pixel_0_6  pixel_0_7  pixel_1_0  pixel_1_1  ...  pixel_6_6  pixel_6_7  \\\n",
       "203         0.0        0.0        0.0        4.0  ...        0.0        0.0   \n",
       "1697        0.0        0.0        0.0        0.0  ...        1.0        0.0   \n",
       "1745        0.0        0.0        0.0        0.0  ...        0.0        0.0   \n",
       "23          4.0        0.0        0.0        3.0  ...        0.0        0.0   \n",
       "798         0.0        0.0        0.0        5.0  ...        5.0        0.0   \n",
       "\n",
       "      pixel_7_0  pixel_7_1  pixel_7_2  pixel_7_3  pixel_7_4  pixel_7_5  \\\n",
       "203         0.0        1.0       12.0       15.0       12.0        3.0   \n",
       "1697        0.0        0.0        6.0       14.0       14.0        4.0   \n",
       "1745        0.0        0.0        6.0       13.0        7.0        0.0   \n",
       "23          0.0        0.0       14.0       15.0       11.0        2.0   \n",
       "798         0.0        4.0       16.0       16.0       16.0       14.0   \n",
       "\n",
       "      pixel_7_6  pixel_7_7  \n",
       "203         0.0        0.0  \n",
       "1697        0.0        0.0  \n",
       "1745        0.0        0.0  \n",
       "23          0.0        0.0  \n",
       "798         3.0        0.0  \n",
       "\n",
       "[5 rows x 64 columns]"
      ]
     },
     "execution_count": 176,
     "metadata": {},
     "output_type": "execute_result"
    }
   ],
   "source": [
    "## 여기서는 random_state 를 지정했다.\n",
    "X_train, X_test, y_train, y_test = train_test_split(digi_ds.data,\n",
    "                                                    digi_ds.target,\n",
    "                                                    test_size=0.2, \n",
    "                                                    random_state=5)\n",
    "X_train.head()"
   ]
  },
  {
   "cell_type": "code",
   "execution_count": 177,
   "metadata": {},
   "outputs": [
    {
     "data": {
      "text/html": [
       "<div>\n",
       "<style scoped>\n",
       "    .dataframe tbody tr th:only-of-type {\n",
       "        vertical-align: middle;\n",
       "    }\n",
       "\n",
       "    .dataframe tbody tr th {\n",
       "        vertical-align: top;\n",
       "    }\n",
       "\n",
       "    .dataframe thead th {\n",
       "        text-align: right;\n",
       "    }\n",
       "</style>\n",
       "<table border=\"1\" class=\"dataframe\">\n",
       "  <thead>\n",
       "    <tr style=\"text-align: right;\">\n",
       "      <th></th>\n",
       "      <th>pixel_0_0</th>\n",
       "      <th>pixel_0_1</th>\n",
       "      <th>pixel_0_2</th>\n",
       "      <th>pixel_0_3</th>\n",
       "      <th>pixel_0_4</th>\n",
       "      <th>pixel_0_5</th>\n",
       "      <th>pixel_0_6</th>\n",
       "      <th>pixel_0_7</th>\n",
       "      <th>pixel_1_0</th>\n",
       "      <th>pixel_1_1</th>\n",
       "      <th>...</th>\n",
       "      <th>pixel_6_6</th>\n",
       "      <th>pixel_6_7</th>\n",
       "      <th>pixel_7_0</th>\n",
       "      <th>pixel_7_1</th>\n",
       "      <th>pixel_7_2</th>\n",
       "      <th>pixel_7_3</th>\n",
       "      <th>pixel_7_4</th>\n",
       "      <th>pixel_7_5</th>\n",
       "      <th>pixel_7_6</th>\n",
       "      <th>pixel_7_7</th>\n",
       "    </tr>\n",
       "  </thead>\n",
       "  <tbody>\n",
       "    <tr>\n",
       "      <th>203</th>\n",
       "      <td>0.0</td>\n",
       "      <td>0.0</td>\n",
       "      <td>10.0</td>\n",
       "      <td>15.0</td>\n",
       "      <td>7.0</td>\n",
       "      <td>0.0</td>\n",
       "      <td>0.0</td>\n",
       "      <td>0.0</td>\n",
       "      <td>0.0</td>\n",
       "      <td>4.0</td>\n",
       "      <td>...</td>\n",
       "      <td>0.0</td>\n",
       "      <td>0.0</td>\n",
       "      <td>0.0</td>\n",
       "      <td>1.0</td>\n",
       "      <td>12.0</td>\n",
       "      <td>15.0</td>\n",
       "      <td>12.0</td>\n",
       "      <td>3.0</td>\n",
       "      <td>0.0</td>\n",
       "      <td>0.0</td>\n",
       "    </tr>\n",
       "    <tr>\n",
       "      <th>1697</th>\n",
       "      <td>0.0</td>\n",
       "      <td>0.0</td>\n",
       "      <td>7.0</td>\n",
       "      <td>12.0</td>\n",
       "      <td>13.0</td>\n",
       "      <td>2.0</td>\n",
       "      <td>0.0</td>\n",
       "      <td>0.0</td>\n",
       "      <td>0.0</td>\n",
       "      <td>0.0</td>\n",
       "      <td>...</td>\n",
       "      <td>1.0</td>\n",
       "      <td>0.0</td>\n",
       "      <td>0.0</td>\n",
       "      <td>0.0</td>\n",
       "      <td>6.0</td>\n",
       "      <td>14.0</td>\n",
       "      <td>14.0</td>\n",
       "      <td>4.0</td>\n",
       "      <td>0.0</td>\n",
       "      <td>0.0</td>\n",
       "    </tr>\n",
       "    <tr>\n",
       "      <th>1745</th>\n",
       "      <td>0.0</td>\n",
       "      <td>0.0</td>\n",
       "      <td>7.0</td>\n",
       "      <td>14.0</td>\n",
       "      <td>8.0</td>\n",
       "      <td>4.0</td>\n",
       "      <td>0.0</td>\n",
       "      <td>0.0</td>\n",
       "      <td>0.0</td>\n",
       "      <td>0.0</td>\n",
       "      <td>...</td>\n",
       "      <td>0.0</td>\n",
       "      <td>0.0</td>\n",
       "      <td>0.0</td>\n",
       "      <td>0.0</td>\n",
       "      <td>6.0</td>\n",
       "      <td>13.0</td>\n",
       "      <td>7.0</td>\n",
       "      <td>0.0</td>\n",
       "      <td>0.0</td>\n",
       "      <td>0.0</td>\n",
       "    </tr>\n",
       "    <tr>\n",
       "      <th>23</th>\n",
       "      <td>0.0</td>\n",
       "      <td>1.0</td>\n",
       "      <td>8.0</td>\n",
       "      <td>12.0</td>\n",
       "      <td>15.0</td>\n",
       "      <td>14.0</td>\n",
       "      <td>4.0</td>\n",
       "      <td>0.0</td>\n",
       "      <td>0.0</td>\n",
       "      <td>3.0</td>\n",
       "      <td>...</td>\n",
       "      <td>0.0</td>\n",
       "      <td>0.0</td>\n",
       "      <td>0.0</td>\n",
       "      <td>0.0</td>\n",
       "      <td>14.0</td>\n",
       "      <td>15.0</td>\n",
       "      <td>11.0</td>\n",
       "      <td>2.0</td>\n",
       "      <td>0.0</td>\n",
       "      <td>0.0</td>\n",
       "    </tr>\n",
       "    <tr>\n",
       "      <th>798</th>\n",
       "      <td>0.0</td>\n",
       "      <td>3.0</td>\n",
       "      <td>16.0</td>\n",
       "      <td>15.0</td>\n",
       "      <td>6.0</td>\n",
       "      <td>0.0</td>\n",
       "      <td>0.0</td>\n",
       "      <td>0.0</td>\n",
       "      <td>0.0</td>\n",
       "      <td>5.0</td>\n",
       "      <td>...</td>\n",
       "      <td>5.0</td>\n",
       "      <td>0.0</td>\n",
       "      <td>0.0</td>\n",
       "      <td>4.0</td>\n",
       "      <td>16.0</td>\n",
       "      <td>16.0</td>\n",
       "      <td>16.0</td>\n",
       "      <td>14.0</td>\n",
       "      <td>3.0</td>\n",
       "      <td>0.0</td>\n",
       "    </tr>\n",
       "  </tbody>\n",
       "</table>\n",
       "<p>5 rows × 64 columns</p>\n",
       "</div>"
      ],
      "text/plain": [
       "      pixel_0_0  pixel_0_1  pixel_0_2  pixel_0_3  pixel_0_4  pixel_0_5  \\\n",
       "203         0.0        0.0       10.0       15.0        7.0        0.0   \n",
       "1697        0.0        0.0        7.0       12.0       13.0        2.0   \n",
       "1745        0.0        0.0        7.0       14.0        8.0        4.0   \n",
       "23          0.0        1.0        8.0       12.0       15.0       14.0   \n",
       "798         0.0        3.0       16.0       15.0        6.0        0.0   \n",
       "\n",
       "      pixel_0_6  pixel_0_7  pixel_1_0  pixel_1_1  ...  pixel_6_6  pixel_6_7  \\\n",
       "203         0.0        0.0        0.0        4.0  ...        0.0        0.0   \n",
       "1697        0.0        0.0        0.0        0.0  ...        1.0        0.0   \n",
       "1745        0.0        0.0        0.0        0.0  ...        0.0        0.0   \n",
       "23          4.0        0.0        0.0        3.0  ...        0.0        0.0   \n",
       "798         0.0        0.0        0.0        5.0  ...        5.0        0.0   \n",
       "\n",
       "      pixel_7_0  pixel_7_1  pixel_7_2  pixel_7_3  pixel_7_4  pixel_7_5  \\\n",
       "203         0.0        1.0       12.0       15.0       12.0        3.0   \n",
       "1697        0.0        0.0        6.0       14.0       14.0        4.0   \n",
       "1745        0.0        0.0        6.0       13.0        7.0        0.0   \n",
       "23          0.0        0.0       14.0       15.0       11.0        2.0   \n",
       "798         0.0        4.0       16.0       16.0       16.0       14.0   \n",
       "\n",
       "      pixel_7_6  pixel_7_7  \n",
       "203         0.0        0.0  \n",
       "1697        0.0        0.0  \n",
       "1745        0.0        0.0  \n",
       "23          0.0        0.0  \n",
       "798         3.0        0.0  \n",
       "\n",
       "[5 rows x 64 columns]"
      ]
     },
     "execution_count": 177,
     "metadata": {},
     "output_type": "execute_result"
    }
   ],
   "source": [
    "## 여기서는 random_state 를 지정하지 않았다.\n",
    "X_train, X_test, y_train, y_test = train_test_split(digi_ds.data,\n",
    "                                                    digi_ds.target,\n",
    "                                                    test_size=0.2, \n",
    "                                                    random_state=5)\n",
    "X_train.head()"
   ]
  },
  {
   "cell_type": "markdown",
   "metadata": {},
   "source": [
    "random_state 를 동일하게 적용한 경우를 확인해보면, 그 결과가 동일함을 알 수 있다."
   ]
  },
  {
   "cell_type": "markdown",
   "metadata": {},
   "source": [
    "지금까지 데이터셋의 분리의 목적과 방법에 대해서 알아보았다.\n",
    "\n",
    "그리고 scikit-learn 에서 제공하는 train_test_split 함수와\n",
    "\n",
    "random_state 매개변수에 대해서도 다루었다.\n",
    "\n",
    "이 학습 데이터와 테스트 데이터를 분리하는 과정의 필요성과 중요도를 알 수 있었다."
   ]
  },
  {
   "cell_type": "markdown",
   "metadata": {},
   "source": [
    "지도학습의 진행은 크게 3단계 정도로 요약 해 볼 수 있는데,\n",
    "\n",
    " - 첫번째 단계는 데이터셋을 가져오고 데이터들을 분석하는 과정 (scikit-learn import, load 함수)\n",
    " \n",
    " - 두번째 단계는 데이터셋을 분리하는 과정 (학습데이터 테스트데이터 분리, train_test_split 함수)\n",
    "\n",
    " - 세번째 단계는 학습모델을 적용하여 학습 과 예측을 수행\n",
    "\n",
    "이상의 과정들을 거쳐서 학습과 예측을 마치고 나서 얻은 결과를 평가하는것이 이번 프로젝트의 목표이다.\n"
   ]
  },
  {
   "cell_type": "markdown",
   "metadata": {},
   "source": [
    "### 3) digit 데이터셋의 모델 학습과 분류 예측"
   ]
  },
  {
   "cell_type": "markdown",
   "metadata": {},
   "source": [
    "scikit-learn 라이브러리는 다양한 머신러닝 모델을 제공하고 있다.\n",
    "\n",
    "여기서는 scikit-learn 라이브러리에서 제공하고 있는 5가지 모델들을 통해\n",
    "\n",
    "데이터셋들을 학습시키고 분류 예측을 수행한다.\n",
    "\n",
    "scikit-learn 에서는 여러 모델 과 모델에 대한 사용자 안내를 제공하고 있다. \n",
    "\n",
    "+ Decision Tree : https://scikit-learn.org/stable/modules/tree.html\n",
    "\n",
    "+ RandomForest : https://scikit-learn.org/stable/modules/ensemble.html#forests-of-randomized-trees\n",
    "\n",
    "+ Support vector machines : https://scikit-learn.org/stable/modules/svm.html\n",
    "\n",
    "+ Stochastic Gradient Descent - SGD : https://scikit-learn.org/stable/modules/linear_model.html#stochastic-gradient-descent-sgd\n",
    "\n",
    "+ Logistic regression : https://scikit-learn.org/stable/modules/linear_model.html#logistic-regression\n",
    "\n",
    "위의 5가지 모델은, 본 프로젝트에서 적용할 모델의 목록이다.\n",
    "\n"
   ]
  },
  {
   "cell_type": "markdown",
   "metadata": {},
   "source": [
    "앞서 진행했던 내용을 토대로 데이터셋과 라벨을 입력받아서\n",
    "\n",
    "8:2 비율로 학습 : 테스트 데이터를 분리하는 과정까지를 알아보았는데,\n",
    "\n",
    "이 과정에 필요한 모듈 import, 데이터 로드, 데이터 분리 과정과\n",
    "\n",
    "각 5가지 모델들의 학습 및 예측을 수행하여 결과를 종합하는 함수를 아래에서 구현하고,\n",
    "\n",
    "분류 리포트를 통하여 대략적인 학습지표 평가를 후반부에 진행할 것이다.\n",
    "\n",
    "우선 모델 학습 과 예측과정을 수행해서 분류 리포트를 표시하는 코드는 아래와 같다."
   ]
  },
  {
   "cell_type": "code",
   "execution_count": 2,
   "metadata": {},
   "outputs": [
    {
     "name": "stdout",
     "output_type": "stream",
     "text": [
      "              precision    recall  f1-score   support\n",
      "\n",
      "           0       1.00      0.89      0.94        35\n",
      "           1       0.84      0.89      0.86        35\n",
      "           2       0.83      0.83      0.83        36\n",
      "           3       1.00      0.81      0.90        37\n",
      "           4       0.86      0.75      0.80        32\n",
      "           5       0.88      0.83      0.85        46\n",
      "           6       0.96      0.87      0.91        30\n",
      "           7       0.89      0.95      0.92        42\n",
      "           8       0.73      0.87      0.80        38\n",
      "           9       0.76      1.00      0.87        29\n",
      "\n",
      "    accuracy                           0.87       360\n",
      "   macro avg       0.88      0.87      0.87       360\n",
      "weighted avg       0.88      0.87      0.87       360\n",
      "\n"
     ]
    }
   ],
   "source": [
    "\n",
    "import sklearn.datasets as sklds                        ## scikit-Learn datasets\n",
    "from sklearn.tree import DecisionTreeClassifier         ## 1. Decision Tree\n",
    "from sklearn.ensemble import RandomForestClassifier     ## 2. Random Forest\n",
    "from sklearn import svm                                 ## 3. Support vector machine\n",
    "from sklearn.linear_model import SGDClassifier          ## 4. Stochastic Gradient Descent\n",
    "from sklearn.linear_model import LogisticRegression     ## 5. Logistic regression\n",
    "from sklearn.model_selection import train_test_split    ## train_test_split\n",
    "from sklearn.metrics import classification_report       ## classification_report\n",
    "\n",
    "\n",
    "## fit → predict → report 출력\n",
    "def fpr_out(model, datapack):\n",
    "\n",
    "    ## train_test_split 의 결과를 여기에서 언패킹\n",
    "    ## 랜덤 추출한 학습, 테스트 데이터 서브셋의 내용이 패킹되어 있다\n",
    "    x_train, x_test, y_train, y_test = datapack     ## 언패킹 (데이터셋 분류)\n",
    "    \n",
    "    ## 학습용 데이터셋(x, y)을 받아서, 지정한 학습 모델을 구축\n",
    "    model.fit(x_train, y_train)                     ## 모델학습 (학습 데이터 이용)\n",
    "    \n",
    "    ## 분류 또는 회귀 값의 예측을 수행.\n",
    "    ## 분류 모델의 경우는 샘플에 대한 예측 클래스를 반환\n",
    "    y_pred = model.predict(x_test)                  ## 각 샘플에 대한 예측 클래스 반환\n",
    "    \n",
    "    ## 테스트용 데이터와 그 예측 결과 데이터를 토대로 리포트 작성\n",
    "    #return classification_report(y_test, y_pred)    ## 분류 리포트를 반환\n",
    "    return classification_report(y_test, y_pred, zero_division=1)    ## 220911 추가 - SGD모델에서 zero_division 경고 출력 방지\n",
    "\n",
    "\n",
    "def learn(data, label, model):\n",
    "    \n",
    "    ## 학습 데이터 / 테스트 데이터의 분리\n",
    "    ## 여기서는 입력받은 데이터셋의 학습-테스트 데이터 분할을 포함한 목록을 언패킹 상태로 사용한다.\n",
    "    ## frp_out 함수에서 언패킹해서 사용하기 위함.\n",
    "    ##x_train, x_test, y_train, y_test = \\\n",
    "    datapack = \\\n",
    "        train_test_split(\n",
    "            data,\n",
    "            label,\n",
    "            test_size=0.2, \n",
    "            random_state=5)\n",
    "\n",
    "    return fpr_out(model, datapack)\n",
    "\n",
    "\n",
    "digi_ds = sklds.load_digits(as_frame=True)          ## 손글씨 데이터셋\n",
    "# wine_ds = sklds.load_wine(as_frame=True)            ## 와인 데이터셋\n",
    "# canc_ds = sklds.load_breast_cancer(as_frame=True)   ## 유방암 데이터셋\n",
    "\n",
    "cls_report = learn(digi_ds.data, digi_ds.target, DecisionTreeClassifier())\n",
    "print(cls_report)\n"
   ]
  },
  {
   "cell_type": "markdown",
   "metadata": {},
   "source": [
    "지금까지의 과정은 learn 함수 안에 다시 정리해서 구현하였다.\n",
    "\n",
    "learn 함수 안의 코드 실행은 다음과 같은 흐름을 따른다.\n",
    "\n",
    "learn 함수는 세개의 파라메터를 입력받는데,\n",
    "\n",
    "첫번째 인자는 특징 데이터를,\n",
    "\n",
    "두번째 인자는 라벨 데이터를,\n",
    "\n",
    "세번째 인자는 학습 모델을 지정한다.\n",
    "\n",
    "내부적으로 학습 데이터와 테스트 데이터를 분리하는 코드가 실행되고,\n",
    "\n",
    "fpr_out 이라는 함수에 값을 넘기게 된다."
   ]
  },
  {
   "cell_type": "markdown",
   "metadata": {},
   "source": [
    "frp_out 함수 안에서 일어나는 일들은 다음과 같다.\n",
    "\n",
    "frp_out 함수는 두개의 파라메터를 사용하는데,\n",
    "\n",
    "첫번째 인자는 scikit-learn 내장함수의 train_test_split 반환 값을 그대로 입력 받고\n",
    "\n",
    "두번째 인자는 학습 모델을 지정한다.\n",
    "\n",
    "이어서 scikit-learn에서 제공하는 fit 함수와 predict 함수를 사용하게 되는데,\n",
    "\n",
    "fit 함수에서 첫번째 인자로 받은 데이터셋과 \n",
    "\n",
    "두번째 인자에서 지정한 학습 모델을 토대로 학습 모델을 구축한다.\n",
    "\n",
    "predict 함수에서는 학습모델을 통해 예측을 수행하게 된다.\n",
    "\n",
    "그리고 그 리포트를 반환 값으로 가진다."
   ]
  },
  {
   "cell_type": "markdown",
   "metadata": {},
   "source": [
    "frp_out 함수의 결과 값은 다시 learn 함수의 반환값으로 보내지게 되고\n",
    "\n",
    "learn 함수의 실행결과 최종적으로 반환되는 값은,\n",
    "\n",
    "매개변수로 지정한 데이터셋과, 지정한 학습 모델을 통한 학습을 수행한 결과 리포트가 반환된다."
   ]
  },
  {
   "cell_type": "markdown",
   "metadata": {},
   "source": [
    "이제부터는 코드 두줄을 사용하여\n",
    "\n",
    "각 모델들을 학습시키고 예측하고 리포트를 받아와서 화면에 출력을 하도록 하겠다."
   ]
  },
  {
   "cell_type": "code",
   "execution_count": 358,
   "metadata": {},
   "outputs": [
    {
     "name": "stdout",
     "output_type": "stream",
     "text": [
      "              precision    recall  f1-score   support\n",
      "\n",
      "           0       1.00      0.91      0.96        35\n",
      "           1       0.76      0.91      0.83        35\n",
      "           2       0.85      0.81      0.83        36\n",
      "           3       0.91      0.81      0.86        37\n",
      "           4       0.83      0.75      0.79        32\n",
      "           5       0.90      0.83      0.86        46\n",
      "           6       0.93      0.87      0.90        30\n",
      "           7       0.89      0.95      0.92        42\n",
      "           8       0.84      0.82      0.83        38\n",
      "           9       0.76      1.00      0.87        29\n",
      "\n",
      "    accuracy                           0.86       360\n",
      "   macro avg       0.87      0.87      0.86       360\n",
      "weighted avg       0.87      0.86      0.86       360\n",
      "\n"
     ]
    }
   ],
   "source": [
    "## 1. Decision Tree Model\n",
    "cls_report = learn(digi_ds.data, digi_ds.target, DecisionTreeClassifier())\n",
    "print(cls_report)"
   ]
  },
  {
   "cell_type": "code",
   "execution_count": 344,
   "metadata": {},
   "outputs": [
    {
     "name": "stdout",
     "output_type": "stream",
     "text": [
      "              precision    recall  f1-score   support\n",
      "\n",
      "           0       1.00      1.00      1.00        35\n",
      "           1       1.00      1.00      1.00        35\n",
      "           2       0.97      1.00      0.99        36\n",
      "           3       1.00      0.95      0.97        37\n",
      "           4       1.00      0.97      0.98        32\n",
      "           5       0.96      0.96      0.96        46\n",
      "           6       1.00      0.97      0.98        30\n",
      "           7       0.98      0.98      0.98        42\n",
      "           8       0.92      0.95      0.94        38\n",
      "           9       0.90      0.97      0.93        29\n",
      "\n",
      "    accuracy                           0.97       360\n",
      "   macro avg       0.97      0.97      0.97       360\n",
      "weighted avg       0.97      0.97      0.97       360\n",
      "\n"
     ]
    }
   ],
   "source": [
    "## 2. Random Forest\n",
    "cls_report = learn(digi_ds.data, digi_ds.target, RandomForestClassifier())\n",
    "print(cls_report)"
   ]
  },
  {
   "cell_type": "code",
   "execution_count": 345,
   "metadata": {},
   "outputs": [
    {
     "name": "stdout",
     "output_type": "stream",
     "text": [
      "              precision    recall  f1-score   support\n",
      "\n",
      "           0       1.00      1.00      1.00        35\n",
      "           1       0.97      1.00      0.99        35\n",
      "           2       1.00      1.00      1.00        36\n",
      "           3       1.00      0.95      0.97        37\n",
      "           4       1.00      1.00      1.00        32\n",
      "           5       0.96      0.98      0.97        46\n",
      "           6       1.00      1.00      1.00        30\n",
      "           7       1.00      0.98      0.99        42\n",
      "           8       0.95      0.95      0.95        38\n",
      "           9       0.90      0.93      0.92        29\n",
      "\n",
      "    accuracy                           0.98       360\n",
      "   macro avg       0.98      0.98      0.98       360\n",
      "weighted avg       0.98      0.98      0.98       360\n",
      "\n"
     ]
    }
   ],
   "source": [
    "## 3. Support vector machine\n",
    "cls_report = learn(digi_ds.data, digi_ds.target, svm.SVC())\n",
    "print(cls_report)"
   ]
  },
  {
   "cell_type": "code",
   "execution_count": 362,
   "metadata": {},
   "outputs": [
    {
     "name": "stdout",
     "output_type": "stream",
     "text": [
      "              precision    recall  f1-score   support\n",
      "\n",
      "           0       1.00      1.00      1.00        35\n",
      "           1       0.94      0.91      0.93        35\n",
      "           2       0.95      1.00      0.97        36\n",
      "           3       0.97      0.95      0.96        37\n",
      "           4       1.00      0.97      0.98        32\n",
      "           5       0.98      0.93      0.96        46\n",
      "           6       1.00      0.97      0.98        30\n",
      "           7       0.98      0.98      0.98        42\n",
      "           8       0.92      0.92      0.92        38\n",
      "           9       0.82      0.93      0.87        29\n",
      "\n",
      "    accuracy                           0.96       360\n",
      "   macro avg       0.96      0.96      0.96       360\n",
      "weighted avg       0.96      0.96      0.96       360\n",
      "\n"
     ]
    }
   ],
   "source": [
    "## 4. Stochastic Gradient Descent\n",
    "cls_report = learn(digi_ds.data, digi_ds.target, SGDClassifier())\n",
    "print(cls_report)"
   ]
  },
  {
   "cell_type": "code",
   "execution_count": 357,
   "metadata": {},
   "outputs": [
    {
     "name": "stdout",
     "output_type": "stream",
     "text": [
      "              precision    recall  f1-score   support\n",
      "\n",
      "           0       1.00      1.00      1.00        35\n",
      "           1       0.89      0.97      0.93        35\n",
      "           2       0.95      1.00      0.97        36\n",
      "           3       0.97      0.95      0.96        37\n",
      "           4       0.97      0.91      0.94        32\n",
      "           5       0.98      0.93      0.96        46\n",
      "           6       1.00      0.97      0.98        30\n",
      "           7       0.98      0.98      0.98        42\n",
      "           8       0.97      0.92      0.95        38\n",
      "           9       0.88      0.97      0.92        29\n",
      "\n",
      "    accuracy                           0.96       360\n",
      "   macro avg       0.96      0.96      0.96       360\n",
      "weighted avg       0.96      0.96      0.96       360\n",
      "\n"
     ]
    }
   ],
   "source": [
    "## 5. Logistic regression\n",
    "cls_report = learn(digi_ds.data, digi_ds.target, LogisticRegression(max_iter=5000))\n",
    "print(cls_report)"
   ]
  },
  {
   "cell_type": "markdown",
   "metadata": {},
   "source": [
    "이와 같이 5가지 학습모델을 하나씩 적용하고, 학습과 분류 예측을 마치고\n",
    "\n",
    "분류 리포트를 확인 해 보았다.\n",
    "\n",
    "각 모델학습에 대한 결과인 리포트 자료들을 참고하여 수치를 기록해두겠다.\n",
    "\n",
    "나머지 두개의 데이터셋의 학습과 리포트를 전부 취합하여\n",
    "\n",
    "각 모델별 분석에 사용할 데이터에 추가한 뒤에\n",
    "\n",
    "차후 다시 모델들만 분석을 진행하겠다."
   ]
  },
  {
   "cell_type": "markdown",
   "metadata": {},
   "source": [
    "digit 데이터셋의 경우, 5가지 모델에서 85％ 이상의 분류예측 정확도를 나타냈다.\n",
    "\n",
    "|model＼dataset                 |digit|wine|cancer|\n",
    "|-------------------------------|-----|----|------|\n",
    "|Decision Tree                  |0.86 |NA  |NA    |\n",
    "|Random Forest                  |0.97 |NA  |NA    |\n",
    "|Support vector machine         |0.98 |NA  |NA    |\n",
    "|Stochastic Gradient Descent    |0.96 |NA  |NA    |\n",
    "|Logistic regression            |0.96 |NA  |NA    |"
   ]
  },
  {
   "cell_type": "markdown",
   "metadata": {},
   "source": [
    "### 4) wine 데이터셋 분석"
   ]
  },
  {
   "cell_type": "markdown",
   "metadata": {},
   "source": [
    "앞서 digi 데이터셋의 경우 특징요소의 갯수가 (8×8 픽셀을 의미) 64개를 가지고 있었지만,\n",
    "\n",
    "64개의 피쳐가 실제로는 한장의 이미지 데이터를 의미한다는 것을 확인 할 수 있었다.\n",
    "\n",
    "DESCR 내용에 따르면 결측값이 없다 하였고, 실제로 데이터셋을 확인해 봐도\n",
    "\n",
    "결측값은 찾을 수 없었다. 사실상 데이터셋 자체는 무결함이 보장된 데이터였다고 할 수 있다."
   ]
  },
  {
   "cell_type": "markdown",
   "metadata": {},
   "source": [
    "wine 데이터셋은 어떨까？\n",
    "\n",
    "이번에는 wine 데이터셋의 분석을 수행 해 보고자 한다."
   ]
  },
  {
   "cell_type": "code",
   "execution_count": 228,
   "metadata": {},
   "outputs": [
    {
     "name": "stdout",
     "output_type": "stream",
     "text": [
      ".. _wine_dataset:\n",
      "\n",
      "Wine recognition dataset\n",
      "------------------------\n",
      "\n",
      "**Data Set Characteristics:**\n",
      "\n",
      "    :Number of Instances: 178\n",
      "    :Number of Attributes: 13 numeric, predictive attributes and the class\n",
      "    :Attribute Information:\n",
      " \t\t- Alcohol\n",
      " \t\t- Malic acid\n",
      " \t\t- Ash\n",
      "\t\t- Alcalinity of ash  \n",
      " \t\t- Magnesium\n",
      "\t\t- Total phenols\n",
      " \t\t- Flavanoids\n",
      " \t\t- Nonflavanoid phenols\n",
      " \t\t- Proanthocyanins\n",
      "\t\t- Color intensity\n",
      " \t\t- Hue\n",
      " \t\t- OD280/OD315 of diluted wines\n",
      " \t\t- Proline\n",
      "\n",
      "    - class:\n",
      "            - class_0\n",
      "            - class_1\n",
      "            - class_2\n",
      "\t\t\n",
      "    :Summary Statistics:\n",
      "    \n",
      "    ============================= ==== ===== ======= =====\n",
      "                                   Min   Max   Mean     SD\n",
      "    ============================= ==== ===== ======= =====\n",
      "    Alcohol:                      11.0  14.8    13.0   0.8\n",
      "    Malic Acid:                   0.74  5.80    2.34  1.12\n",
      "    Ash:                          1.36  3.23    2.36  0.27\n",
      "    Alcalinity of Ash:            10.6  30.0    19.5   3.3\n",
      "    Magnesium:                    70.0 162.0    99.7  14.3\n",
      "    Total Phenols:                0.98  3.88    2.29  0.63\n",
      "    Flavanoids:                   0.34  5.08    2.03  1.00\n",
      "    Nonflavanoid Phenols:         0.13  0.66    0.36  0.12\n",
      "    Proanthocyanins:              0.41  3.58    1.59  0.57\n",
      "    Colour Intensity:              1.3  13.0     5.1   2.3\n",
      "    Hue:                          0.48  1.71    0.96  0.23\n",
      "    OD280/OD315 of diluted wines: 1.27  4.00    2.61  0.71\n",
      "    Proline:                       278  1680     746   315\n",
      "    ============================= ==== ===== ======= =====\n",
      "\n",
      "    :Missing Attribute Values: None\n",
      "    :Class Distribution: class_0 (59), class_1 (71), class_2 (48)\n",
      "    :Creator: R.A. Fisher\n",
      "    :Donor: Michael Marshall (MARSHALL%PLU@io.arc.nasa.gov)\n",
      "    :Date: July, 1988\n",
      "\n",
      "This is a copy of UCI ML Wine recognition datasets.\n",
      "https://archive.ics.uci.edu/ml/machine-learning-databases/wine/wine.data\n",
      "\n",
      "The data is the results of a chemical analysis of wines grown in the same\n",
      "region in Italy by three different cultivators. There are thirteen different\n",
      "measurements taken for different constituents found in the three types of\n",
      "wine.\n",
      "\n",
      "Original Owners: \n",
      "\n",
      "Forina, M. et al, PARVUS - \n",
      "An Extendible Package for Data Exploration, Classification and Correlation. \n",
      "Institute of Pharmaceutical and Food Analysis and Technologies,\n",
      "Via Brigata Salerno, 16147 Genoa, Italy.\n",
      "\n",
      "Citation:\n",
      "\n",
      "Lichman, M. (2013). UCI Machine Learning Repository\n",
      "[https://archive.ics.uci.edu/ml]. Irvine, CA: University of California,\n",
      "School of Information and Computer Science. \n",
      "\n",
      ".. topic:: References\n",
      "\n",
      "  (1) S. Aeberhard, D. Coomans and O. de Vel, \n",
      "  Comparison of Classifiers in High Dimensional Settings, \n",
      "  Tech. Rep. no. 92-02, (1992), Dept. of Computer Science and Dept. of  \n",
      "  Mathematics and Statistics, James Cook University of North Queensland. \n",
      "  (Also submitted to Technometrics). \n",
      "\n",
      "  The data was used with many others for comparing various \n",
      "  classifiers. The classes are separable, though only RDA \n",
      "  has achieved 100% correct classification. \n",
      "  (RDA : 100%, QDA 99.4%, LDA 98.9%, 1NN 96.1% (z-transformed data)) \n",
      "  (All results using the leave-one-out technique) \n",
      "\n",
      "  (2) S. Aeberhard, D. Coomans and O. de Vel, \n",
      "  \"THE CLASSIFICATION PERFORMANCE OF RDA\" \n",
      "  Tech. Rep. no. 92-01, (1992), Dept. of Computer Science and Dept. of \n",
      "  Mathematics and Statistics, James Cook University of North Queensland. \n",
      "  (Also submitted to Journal of Chemometrics).\n",
      "\n"
     ]
    }
   ],
   "source": [
    "wine_ds = sklds.load_wine(as_frame=True)\n",
    "print(wine_ds.DESCR)"
   ]
  },
  {
   "cell_type": "markdown",
   "metadata": {},
   "source": [
    "이 와인 데이터는 세명의 다른 경작자가 이탈리아의 같은 지역에서 생산 한\n",
    "\n",
    "와인에 대해 화학적 분석한 결과를 나타낸 것이며,\n",
    "\n",
    "__3가지 유형의 와인에서 발견되는 서로 다른 성분들에 대한 13가지 측정__ 을 거쳤다고 한다.\n",
    "\n",
    "결측치나 지나친 중복치 등으로 데이터가 부실한 특징요소등이 있다거나,\n",
    "\n",
    "3가지 유형으로 분류하는 과정에서 의미가 없는 피쳐 요소를 특정할 만한 근거가 없다고 보인다.\n",
    "\n",
    "하여, 이 데이터셋도 샘플수가 많은 편은 아니지만 무결성은 충분히 확보했다고 판단된다."
   ]
  },
  {
   "cell_type": "code",
   "execution_count": 229,
   "metadata": {},
   "outputs": [
    {
     "name": "stdout",
     "output_type": "stream",
     "text": [
      "wine.data.shape : (178, 13)\n",
      "\n",
      "wine.data.feature_names :\n",
      " ['alcohol', 'malic_acid', 'ash', 'alcalinity_of_ash', 'magnesium', 'total_phenols', 'flavanoids', 'nonflavanoid_phenols', 'proanthocyanins', 'color_intensity', 'hue', 'od280/od315_of_diluted_wines', 'proline']\n",
      "\n",
      "wine.data.target_names :\n",
      " ['class_0' 'class_1' 'class_2']\n",
      "────────────────────────────────────────────────────────────────────────────────\n"
     ]
    }
   ],
   "source": [
    "## 데이터셋의 정보도 한번 확인해보자.\n",
    "skl_dataset_info(wine_ds, \"wine.data\")"
   ]
  },
  {
   "cell_type": "code",
   "execution_count": 254,
   "metadata": {},
   "outputs": [
    {
     "data": {
      "text/html": [
       "<div>\n",
       "<style scoped>\n",
       "    .dataframe tbody tr th:only-of-type {\n",
       "        vertical-align: middle;\n",
       "    }\n",
       "\n",
       "    .dataframe tbody tr th {\n",
       "        vertical-align: top;\n",
       "    }\n",
       "\n",
       "    .dataframe thead th {\n",
       "        text-align: right;\n",
       "    }\n",
       "</style>\n",
       "<table border=\"1\" class=\"dataframe\">\n",
       "  <thead>\n",
       "    <tr style=\"text-align: right;\">\n",
       "      <th></th>\n",
       "      <th>alcohol</th>\n",
       "      <th>malic_acid</th>\n",
       "      <th>ash</th>\n",
       "      <th>alcalinity_of_ash</th>\n",
       "      <th>magnesium</th>\n",
       "      <th>total_phenols</th>\n",
       "      <th>flavanoids</th>\n",
       "      <th>nonflavanoid_phenols</th>\n",
       "      <th>proanthocyanins</th>\n",
       "      <th>color_intensity</th>\n",
       "      <th>hue</th>\n",
       "      <th>od280/od315_of_diluted_wines</th>\n",
       "      <th>proline</th>\n",
       "    </tr>\n",
       "  </thead>\n",
       "  <tbody>\n",
       "    <tr>\n",
       "      <th>0</th>\n",
       "      <td>14.23</td>\n",
       "      <td>1.71</td>\n",
       "      <td>2.43</td>\n",
       "      <td>15.6</td>\n",
       "      <td>127.0</td>\n",
       "      <td>2.80</td>\n",
       "      <td>3.06</td>\n",
       "      <td>0.28</td>\n",
       "      <td>2.29</td>\n",
       "      <td>5.64</td>\n",
       "      <td>1.04</td>\n",
       "      <td>3.92</td>\n",
       "      <td>1065.0</td>\n",
       "    </tr>\n",
       "    <tr>\n",
       "      <th>1</th>\n",
       "      <td>13.20</td>\n",
       "      <td>1.78</td>\n",
       "      <td>2.14</td>\n",
       "      <td>11.2</td>\n",
       "      <td>100.0</td>\n",
       "      <td>2.65</td>\n",
       "      <td>2.76</td>\n",
       "      <td>0.26</td>\n",
       "      <td>1.28</td>\n",
       "      <td>4.38</td>\n",
       "      <td>1.05</td>\n",
       "      <td>3.40</td>\n",
       "      <td>1050.0</td>\n",
       "    </tr>\n",
       "    <tr>\n",
       "      <th>2</th>\n",
       "      <td>13.16</td>\n",
       "      <td>2.36</td>\n",
       "      <td>2.67</td>\n",
       "      <td>18.6</td>\n",
       "      <td>101.0</td>\n",
       "      <td>2.80</td>\n",
       "      <td>3.24</td>\n",
       "      <td>0.30</td>\n",
       "      <td>2.81</td>\n",
       "      <td>5.68</td>\n",
       "      <td>1.03</td>\n",
       "      <td>3.17</td>\n",
       "      <td>1185.0</td>\n",
       "    </tr>\n",
       "    <tr>\n",
       "      <th>3</th>\n",
       "      <td>14.37</td>\n",
       "      <td>1.95</td>\n",
       "      <td>2.50</td>\n",
       "      <td>16.8</td>\n",
       "      <td>113.0</td>\n",
       "      <td>3.85</td>\n",
       "      <td>3.49</td>\n",
       "      <td>0.24</td>\n",
       "      <td>2.18</td>\n",
       "      <td>7.80</td>\n",
       "      <td>0.86</td>\n",
       "      <td>3.45</td>\n",
       "      <td>1480.0</td>\n",
       "    </tr>\n",
       "    <tr>\n",
       "      <th>4</th>\n",
       "      <td>13.24</td>\n",
       "      <td>2.59</td>\n",
       "      <td>2.87</td>\n",
       "      <td>21.0</td>\n",
       "      <td>118.0</td>\n",
       "      <td>2.80</td>\n",
       "      <td>2.69</td>\n",
       "      <td>0.39</td>\n",
       "      <td>1.82</td>\n",
       "      <td>4.32</td>\n",
       "      <td>1.04</td>\n",
       "      <td>2.93</td>\n",
       "      <td>735.0</td>\n",
       "    </tr>\n",
       "  </tbody>\n",
       "</table>\n",
       "</div>"
      ],
      "text/plain": [
       "   alcohol  malic_acid   ash  alcalinity_of_ash  magnesium  total_phenols  \\\n",
       "0    14.23        1.71  2.43               15.6      127.0           2.80   \n",
       "1    13.20        1.78  2.14               11.2      100.0           2.65   \n",
       "2    13.16        2.36  2.67               18.6      101.0           2.80   \n",
       "3    14.37        1.95  2.50               16.8      113.0           3.85   \n",
       "4    13.24        2.59  2.87               21.0      118.0           2.80   \n",
       "\n",
       "   flavanoids  nonflavanoid_phenols  proanthocyanins  color_intensity   hue  \\\n",
       "0        3.06                  0.28             2.29             5.64  1.04   \n",
       "1        2.76                  0.26             1.28             4.38  1.05   \n",
       "2        3.24                  0.30             2.81             5.68  1.03   \n",
       "3        3.49                  0.24             2.18             7.80  0.86   \n",
       "4        2.69                  0.39             1.82             4.32  1.04   \n",
       "\n",
       "   od280/od315_of_diluted_wines  proline  \n",
       "0                          3.92   1065.0  \n",
       "1                          3.40   1050.0  \n",
       "2                          3.17   1185.0  \n",
       "3                          3.45   1480.0  \n",
       "4                          2.93    735.0  "
      ]
     },
     "execution_count": 254,
     "metadata": {},
     "output_type": "execute_result"
    }
   ],
   "source": [
    "## 순번 낮은 데이터부터 5개를 출력해 보았다.\n",
    "wine_ds.data.head()"
   ]
  },
  {
   "cell_type": "code",
   "execution_count": 231,
   "metadata": {},
   "outputs": [
    {
     "data": {
      "text/plain": [
       "alcohol                         0\n",
       "malic_acid                      0\n",
       "ash                             0\n",
       "alcalinity_of_ash               0\n",
       "magnesium                       0\n",
       "total_phenols                   0\n",
       "flavanoids                      0\n",
       "nonflavanoid_phenols            0\n",
       "proanthocyanins                 0\n",
       "color_intensity                 0\n",
       "hue                             0\n",
       "od280/od315_of_diluted_wines    0\n",
       "proline                         0\n",
       "dtype: int64"
      ]
     },
     "execution_count": 231,
     "metadata": {},
     "output_type": "execute_result"
    }
   ],
   "source": [
    "## 물론 오피셜 정보를 믿지만, 피쳐에 결측치가 있는지 다시 한번 확인해 봤다.\n",
    "wine_ds.data.isna().sum()"
   ]
  },
  {
   "cell_type": "markdown",
   "metadata": {},
   "source": [
    "### 5) wine 데이터셋의 모델 학습과 분류 예측"
   ]
  },
  {
   "cell_type": "markdown",
   "metadata": {},
   "source": [
    "데이터셋의 준비와 분석을 마친 데이터는, 학습 데이터와 테스트 데이터의\n",
    "\n",
    "분리 과정을 거친 후에 모델 학습과 예측을 진행하게 된다.\n",
    "\n",
    "하지만 이전에 『2) digit 데이터셋 분리』, 『3) digit 데이터셋의 모델 학습과 분류 예측』 부분에서\n",
    "\n",
    "이러한 과정을 도와주는 함수를 만들었다.\n",
    "\n",
    "scikit-learn에서 제공하는 분류 모델 학습방법은\n",
    "\n",
    "digit 데이터셋 때와 마찬가지로 큰 틀에서 다를 것이 없다.\n",
    "\n",
    "데이터셋과 모델만 바꾸어 적용하면, 모델 학습과 분류 예측 결과를 확인할 수 있다.\n",
    "\n",
    "이것은 매우 간결하고 편리한 방법이다.\n",
    "\n",
    "굳이 사용자 정의 함수를 만들지 않아도 크게 복잡하지 않은 구조이지만,\n",
    "\n",
    "기껏 데이터셋과 모델만 다르게 지정해서 사용할 수 있게 만들었으니 여기서도 쓰겠다."
   ]
  },
  {
   "cell_type": "code",
   "execution_count": 4,
   "metadata": {},
   "outputs": [
    {
     "name": "stdout",
     "output_type": "stream",
     "text": [
      "              precision    recall  f1-score   support\n",
      "\n",
      "           0       0.93      0.76      0.84        17\n",
      "           1       0.67      0.91      0.77        11\n",
      "           2       0.86      0.75      0.80         8\n",
      "\n",
      "    accuracy                           0.81        36\n",
      "   macro avg       0.82      0.81      0.80        36\n",
      "weighted avg       0.83      0.81      0.81        36\n",
      "\n"
     ]
    }
   ],
   "source": [
    "# digi_ds = sklds.load_digits(as_frame=True)          ## 손글씨 데이터셋\n",
    "wine_ds = sklds.load_wine(as_frame=True)            ## 와인 데이터셋\n",
    "# canc_ds = sklds.load_breast_cancer(as_frame=True)   ## 유방암 데이터셋\n",
    "\n",
    "## 1. Decision Tree\n",
    "cls_report = learn(wine_ds.data, wine_ds.target, DecisionTreeClassifier())\n",
    "print(cls_report)"
   ]
  },
  {
   "cell_type": "code",
   "execution_count": 365,
   "metadata": {},
   "outputs": [
    {
     "name": "stdout",
     "output_type": "stream",
     "text": [
      "              precision    recall  f1-score   support\n",
      "\n",
      "           0       1.00      1.00      1.00        17\n",
      "           1       1.00      1.00      1.00        11\n",
      "           2       1.00      1.00      1.00         8\n",
      "\n",
      "    accuracy                           1.00        36\n",
      "   macro avg       1.00      1.00      1.00        36\n",
      "weighted avg       1.00      1.00      1.00        36\n",
      "\n"
     ]
    }
   ],
   "source": [
    "## 2. Random Forest\n",
    "cls_report = learn(wine_ds.data, wine_ds.target, RandomForestClassifier())\n",
    "print(cls_report)"
   ]
  },
  {
   "cell_type": "code",
   "execution_count": 367,
   "metadata": {},
   "outputs": [
    {
     "name": "stdout",
     "output_type": "stream",
     "text": [
      "              precision    recall  f1-score   support\n",
      "\n",
      "           0       0.86      0.71      0.77        17\n",
      "           1       0.69      0.82      0.75        11\n",
      "           2       0.44      0.50      0.47         8\n",
      "\n",
      "    accuracy                           0.69        36\n",
      "   macro avg       0.66      0.67      0.66        36\n",
      "weighted avg       0.72      0.69      0.70        36\n",
      "\n"
     ]
    }
   ],
   "source": [
    "## 3. Support vector machine\n",
    "cls_report = learn(wine_ds.data, wine_ds.target, svm.SVC())\n",
    "print(cls_report)"
   ]
  },
  {
   "cell_type": "code",
   "execution_count": 379,
   "metadata": {},
   "outputs": [
    {
     "name": "stdout",
     "output_type": "stream",
     "text": [
      "              precision    recall  f1-score   support\n",
      "\n",
      "           0       0.76      0.94      0.84        17\n",
      "           1       1.00      0.09      0.17        11\n",
      "           2       0.36      0.62      0.45         8\n",
      "\n",
      "    accuracy                           0.61        36\n",
      "   macro avg       0.71      0.55      0.49        36\n",
      "weighted avg       0.74      0.61      0.55        36\n",
      "\n"
     ]
    }
   ],
   "source": [
    "## 4. Stochastic Gradient Descent\n",
    "cls_report = learn(wine_ds.data, wine_ds.target, SGDClassifier())\n",
    "print(cls_report)"
   ]
  },
  {
   "cell_type": "code",
   "execution_count": 380,
   "metadata": {},
   "outputs": [
    {
     "name": "stdout",
     "output_type": "stream",
     "text": [
      "              precision    recall  f1-score   support\n",
      "\n",
      "           0       1.00      0.94      0.97        17\n",
      "           1       0.85      1.00      0.92        11\n",
      "           2       1.00      0.88      0.93         8\n",
      "\n",
      "    accuracy                           0.94        36\n",
      "   macro avg       0.95      0.94      0.94        36\n",
      "weighted avg       0.95      0.94      0.95        36\n",
      "\n"
     ]
    }
   ],
   "source": [
    "## 5. Logistic regression\n",
    "cls_report = learn(wine_ds.data, wine_ds.target, LogisticRegression(max_iter=5000))\n",
    "print(cls_report)"
   ]
  },
  {
   "cell_type": "markdown",
   "metadata": {},
   "source": [
    "wine 데이터셋의 경우 정확도에서 차이가 제법 발생했다.\n",
    "\n",
    "digit 데이터셋때와 같이 리포트를 토대로 값을 채워보자.\n",
    "\n",
    "|model＼dataset                 |digit|wine|cancer|\n",
    "|-------------------------------|-----|----|------|\n",
    "|Decision Tree                  |0.86 |0.83|NA    |\n",
    "|Random Forest                  |0.97 |1.00|NA    |\n",
    "|Support vector machine         |0.98 |0.69|NA    |\n",
    "|Stochastic Gradient Descent    |0.96 |0.58|NA    |\n",
    "|Logistic regression            |0.96 |0.94|NA    |\n",
    "\n",
    "놀랍게도 1.00 정확도를 달성한 모델이 있었다."
   ]
  },
  {
   "cell_type": "markdown",
   "metadata": {},
   "source": [
    "### 6) breast_cancer 데이터셋 분석"
   ]
  },
  {
   "cell_type": "markdown",
   "metadata": {},
   "source": [
    "이번에는 Breast cancer wisconsin 데이터셋 차례이다.\n",
    "\n",
    "다음 코드를 통해 설명을 먼저 확인한다."
   ]
  },
  {
   "cell_type": "code",
   "execution_count": 260,
   "metadata": {},
   "outputs": [
    {
     "name": "stdout",
     "output_type": "stream",
     "text": [
      ".. _breast_cancer_dataset:\n",
      "\n",
      "Breast cancer wisconsin (diagnostic) dataset\n",
      "--------------------------------------------\n",
      "\n",
      "**Data Set Characteristics:**\n",
      "\n",
      "    :Number of Instances: 569\n",
      "\n",
      "    :Number of Attributes: 30 numeric, predictive attributes and the class\n",
      "\n",
      "    :Attribute Information:\n",
      "        - radius (mean of distances from center to points on the perimeter)\n",
      "        - texture (standard deviation of gray-scale values)\n",
      "        - perimeter\n",
      "        - area\n",
      "        - smoothness (local variation in radius lengths)\n",
      "        - compactness (perimeter^2 / area - 1.0)\n",
      "        - concavity (severity of concave portions of the contour)\n",
      "        - concave points (number of concave portions of the contour)\n",
      "        - symmetry\n",
      "        - fractal dimension (\"coastline approximation\" - 1)\n",
      "\n",
      "        The mean, standard error, and \"worst\" or largest (mean of the three\n",
      "        worst/largest values) of these features were computed for each image,\n",
      "        resulting in 30 features.  For instance, field 0 is Mean Radius, field\n",
      "        10 is Radius SE, field 20 is Worst Radius.\n",
      "\n",
      "        - class:\n",
      "                - WDBC-Malignant\n",
      "                - WDBC-Benign\n",
      "\n",
      "    :Summary Statistics:\n",
      "\n",
      "    ===================================== ====== ======\n",
      "                                           Min    Max\n",
      "    ===================================== ====== ======\n",
      "    radius (mean):                        6.981  28.11\n",
      "    texture (mean):                       9.71   39.28\n",
      "    perimeter (mean):                     43.79  188.5\n",
      "    area (mean):                          143.5  2501.0\n",
      "    smoothness (mean):                    0.053  0.163\n",
      "    compactness (mean):                   0.019  0.345\n",
      "    concavity (mean):                     0.0    0.427\n",
      "    concave points (mean):                0.0    0.201\n",
      "    symmetry (mean):                      0.106  0.304\n",
      "    fractal dimension (mean):             0.05   0.097\n",
      "    radius (standard error):              0.112  2.873\n",
      "    texture (standard error):             0.36   4.885\n",
      "    perimeter (standard error):           0.757  21.98\n",
      "    area (standard error):                6.802  542.2\n",
      "    smoothness (standard error):          0.002  0.031\n",
      "    compactness (standard error):         0.002  0.135\n",
      "    concavity (standard error):           0.0    0.396\n",
      "    concave points (standard error):      0.0    0.053\n",
      "    symmetry (standard error):            0.008  0.079\n",
      "    fractal dimension (standard error):   0.001  0.03\n",
      "    radius (worst):                       7.93   36.04\n",
      "    texture (worst):                      12.02  49.54\n",
      "    perimeter (worst):                    50.41  251.2\n",
      "    area (worst):                         185.2  4254.0\n",
      "    smoothness (worst):                   0.071  0.223\n",
      "    compactness (worst):                  0.027  1.058\n",
      "    concavity (worst):                    0.0    1.252\n",
      "    concave points (worst):               0.0    0.291\n",
      "    symmetry (worst):                     0.156  0.664\n",
      "    fractal dimension (worst):            0.055  0.208\n",
      "    ===================================== ====== ======\n",
      "\n",
      "    :Missing Attribute Values: None\n",
      "\n",
      "    :Class Distribution: 212 - Malignant, 357 - Benign\n",
      "\n",
      "    :Creator:  Dr. William H. Wolberg, W. Nick Street, Olvi L. Mangasarian\n",
      "\n",
      "    :Donor: Nick Street\n",
      "\n",
      "    :Date: November, 1995\n",
      "\n",
      "This is a copy of UCI ML Breast Cancer Wisconsin (Diagnostic) datasets.\n",
      "https://goo.gl/U2Uwz2\n",
      "\n",
      "Features are computed from a digitized image of a fine needle\n",
      "aspirate (FNA) of a breast mass.  They describe\n",
      "characteristics of the cell nuclei present in the image.\n",
      "\n",
      "Separating plane described above was obtained using\n",
      "Multisurface Method-Tree (MSM-T) [K. P. Bennett, \"Decision Tree\n",
      "Construction Via Linear Programming.\" Proceedings of the 4th\n",
      "Midwest Artificial Intelligence and Cognitive Science Society,\n",
      "pp. 97-101, 1992], a classification method which uses linear\n",
      "programming to construct a decision tree.  Relevant features\n",
      "were selected using an exhaustive search in the space of 1-4\n",
      "features and 1-3 separating planes.\n",
      "\n",
      "The actual linear program used to obtain the separating plane\n",
      "in the 3-dimensional space is that described in:\n",
      "[K. P. Bennett and O. L. Mangasarian: \"Robust Linear\n",
      "Programming Discrimination of Two Linearly Inseparable Sets\",\n",
      "Optimization Methods and Software 1, 1992, 23-34].\n",
      "\n",
      "This database is also available through the UW CS ftp server:\n",
      "\n",
      "ftp ftp.cs.wisc.edu\n",
      "cd math-prog/cpo-dataset/machine-learn/WDBC/\n",
      "\n",
      ".. topic:: References\n",
      "\n",
      "   - W.N. Street, W.H. Wolberg and O.L. Mangasarian. Nuclear feature extraction \n",
      "     for breast tumor diagnosis. IS&T/SPIE 1993 International Symposium on \n",
      "     Electronic Imaging: Science and Technology, volume 1905, pages 861-870,\n",
      "     San Jose, CA, 1993.\n",
      "   - O.L. Mangasarian, W.N. Street and W.H. Wolberg. Breast cancer diagnosis and \n",
      "     prognosis via linear programming. Operations Research, 43(4), pages 570-577, \n",
      "     July-August 1995.\n",
      "   - W.H. Wolberg, W.N. Street, and O.L. Mangasarian. Machine learning techniques\n",
      "     to diagnose breast cancer from fine-needle aspirates. Cancer Letters 77 (1994) \n",
      "     163-171.\n"
     ]
    }
   ],
   "source": [
    "canc_ds = sklds.load_breast_cancer(as_frame=True)\n",
    "print(canc_ds.DESCR)"
   ]
  },
  {
   "cell_type": "markdown",
   "metadata": {},
   "source": [
    "우선 569 개의 인스턴스와 30개의 피쳐로 구성되어 있음을 알 수 있었다.\n",
    "\n",
    "다만 애트리뷰트 정보에 따르면, 10가지 항목에 대해 설명하고 있고,\n",
    "\n",
    "그 아래에, 30개 피쳐의 결과는 각 이미지를 통해 계측된 값의\n",
    "\n",
    "mean, standard error, worst 라고 한다. \n",
    "\n",
    "피쳐 이름들을 한번 확인해 보자."
   ]
  },
  {
   "cell_type": "code",
   "execution_count": 264,
   "metadata": {},
   "outputs": [
    {
     "data": {
      "text/plain": [
       "array(['mean radius', 'mean texture', 'mean perimeter', 'mean area',\n",
       "       'mean smoothness', 'mean compactness', 'mean concavity',\n",
       "       'mean concave points', 'mean symmetry', 'mean fractal dimension',\n",
       "       'radius error', 'texture error', 'perimeter error', 'area error',\n",
       "       'smoothness error', 'compactness error', 'concavity error',\n",
       "       'concave points error', 'symmetry error',\n",
       "       'fractal dimension error', 'worst radius', 'worst texture',\n",
       "       'worst perimeter', 'worst area', 'worst smoothness',\n",
       "       'worst compactness', 'worst concavity', 'worst concave points',\n",
       "       'worst symmetry', 'worst fractal dimension'], dtype='<U23')"
      ]
     },
     "execution_count": 264,
     "metadata": {},
     "output_type": "execute_result"
    }
   ],
   "source": [
    "canc_ds.feature_names"
   ]
  },
  {
   "cell_type": "markdown",
   "metadata": {},
   "source": [
    "mean, error, worst 3개의 구분 단어를 확인 할 수 있다.\n",
    "\n"
   ]
  },
  {
   "cell_type": "markdown",
   "metadata": {},
   "source": [
    "이번에는 타겟을 살펴보겠다."
   ]
  },
  {
   "cell_type": "code",
   "execution_count": 265,
   "metadata": {},
   "outputs": [
    {
     "data": {
      "text/plain": [
       "array(['malignant', 'benign'], dtype='<U9')"
      ]
     },
     "execution_count": 265,
     "metadata": {},
     "output_type": "execute_result"
    }
   ],
   "source": [
    "canc_ds.target_names"
   ]
  },
  {
   "cell_type": "markdown",
   "metadata": {},
   "source": [
    "2개 항목이 존재하는데, malignant : 악성, benign : 양성 을 의미한다.\n",
    "\n",
    "악성과 양성의 차이가 무엇인고 하니, 악성이 우리가 말하는 암 이라는 것이고.\n",
    "\n",
    "양성은 어느정도 성장하다가 중단이 되고 전이가 없다고 한다."
   ]
  },
  {
   "cell_type": "markdown",
   "metadata": {},
   "source": [
    "제공된 데이터셋에서 연관성이 없다고 볼 수 있는 데이터는 보이지 않는다.\n",
    "\n",
    "피쳐, 타겟정보 모두 결측치가 혹시 있는지 확인 결과 결측 없었다."
   ]
  },
  {
   "cell_type": "markdown",
   "metadata": {},
   "source": [
    "### 7) breast_cancer 데이터셋의 모델 학습과 분류 예측"
   ]
  },
  {
   "cell_type": "markdown",
   "metadata": {},
   "source": [
    "앞서 2개의 데이터셋의 모델 학습과 분류 예측 부분에서도 다루었듯이,\n",
    "\n",
    "이미 만들어놓은 일련의 처리 구조를 따르는 함수를 통하여\n",
    "\n",
    "이 데이터셋도 마찬가지로 모델 학습과 분류 예측하고 결과를 정리하겠다."
   ]
  },
  {
   "cell_type": "code",
   "execution_count": 270,
   "metadata": {},
   "outputs": [
    {
     "name": "stdout",
     "output_type": "stream",
     "text": [
      "              precision    recall  f1-score   support\n",
      "\n",
      "           0       0.96      0.94      0.95        48\n",
      "           1       0.96      0.97      0.96        66\n",
      "\n",
      "    accuracy                           0.96       114\n",
      "   macro avg       0.96      0.95      0.95       114\n",
      "weighted avg       0.96      0.96      0.96       114\n",
      "\n"
     ]
    }
   ],
   "source": [
    "# digi_ds = sklds.load_digits(as_frame=True)          ## 손글씨 데이터셋\n",
    "# wine_ds = sklds.load_wine(as_frame=True)            ## 와인 데이터셋\n",
    "canc_ds = sklds.load_breast_cancer(as_frame=True)   ## 유방암 데이터셋\n",
    "\n",
    "## 1. Decision Tree\n",
    "cls_report = learn(canc_ds.data, canc_ds.target, DecisionTreeClassifier())\n",
    "print(cls_report)"
   ]
  },
  {
   "cell_type": "code",
   "execution_count": 271,
   "metadata": {},
   "outputs": [
    {
     "name": "stdout",
     "output_type": "stream",
     "text": [
      "              precision    recall  f1-score   support\n",
      "\n",
      "           0       0.98      0.94      0.96        48\n",
      "           1       0.96      0.98      0.97        66\n",
      "\n",
      "    accuracy                           0.96       114\n",
      "   macro avg       0.97      0.96      0.96       114\n",
      "weighted avg       0.97      0.96      0.96       114\n",
      "\n"
     ]
    }
   ],
   "source": [
    "## 2. Random Forest\n",
    "cls_report = learn(canc_ds.data, canc_ds.target, RandomForestClassifier())\n",
    "print(cls_report)"
   ]
  },
  {
   "cell_type": "code",
   "execution_count": 272,
   "metadata": {},
   "outputs": [
    {
     "name": "stdout",
     "output_type": "stream",
     "text": [
      "              precision    recall  f1-score   support\n",
      "\n",
      "           0       1.00      0.85      0.92        48\n",
      "           1       0.90      1.00      0.95        66\n",
      "\n",
      "    accuracy                           0.94       114\n",
      "   macro avg       0.95      0.93      0.94       114\n",
      "weighted avg       0.94      0.94      0.94       114\n",
      "\n"
     ]
    }
   ],
   "source": [
    "## 3. Support vector machine\n",
    "cls_report = learn(canc_ds.data, canc_ds.target, svm.SVC())\n",
    "print(cls_report)"
   ]
  },
  {
   "cell_type": "code",
   "execution_count": 273,
   "metadata": {},
   "outputs": [
    {
     "name": "stdout",
     "output_type": "stream",
     "text": [
      "              precision    recall  f1-score   support\n",
      "\n",
      "           0       1.00      0.77      0.87        48\n",
      "           1       0.86      1.00      0.92        66\n",
      "\n",
      "    accuracy                           0.90       114\n",
      "   macro avg       0.93      0.89      0.90       114\n",
      "weighted avg       0.92      0.90      0.90       114\n",
      "\n"
     ]
    }
   ],
   "source": [
    "## 4. Stochastic Gradient Descent\n",
    "cls_report = learn(canc_ds.data, canc_ds.target, SGDClassifier())\n",
    "print(cls_report)"
   ]
  },
  {
   "cell_type": "code",
   "execution_count": 274,
   "metadata": {},
   "outputs": [
    {
     "name": "stdout",
     "output_type": "stream",
     "text": [
      "              precision    recall  f1-score   support\n",
      "\n",
      "           0       0.98      0.94      0.96        48\n",
      "           1       0.96      0.98      0.97        66\n",
      "\n",
      "    accuracy                           0.96       114\n",
      "   macro avg       0.97      0.96      0.96       114\n",
      "weighted avg       0.97      0.96      0.96       114\n",
      "\n"
     ]
    }
   ],
   "source": [
    "## 5. Logistic regression\n",
    "cls_report = learn(canc_ds.data, canc_ds.target, LogisticRegression(max_iter=5000))\n",
    "print(cls_report)"
   ]
  },
  {
   "cell_type": "markdown",
   "metadata": {},
   "source": [
    "다른 데이터셋들과 마찬가지로 리포트를 토대로 값을 채워보자.\n",
    "\n",
    "|model＼dataset                 |digit|wine|cancer|\n",
    "|-------------------------------|-----|----|------|\n",
    "|Decision Tree                  |0.86 |0.83|0.96  |\n",
    "|Random Forest                  |0.97 |1.00|0.96  |\n",
    "|Support vector machine         |0.98 |0.69|0.94  |\n",
    "|Stochastic Gradient Descent    |0.96 |0.58|0.90  |\n",
    "|Logistic regression            |0.96 |0.94|0.96  |\n"
   ]
  },
  {
   "cell_type": "markdown",
   "metadata": {},
   "source": [
    "## 2. 모델"
   ]
  },
  {
   "cell_type": "markdown",
   "metadata": {},
   "source": [
    "지금까지 scikit-learn 에서 제공하는 3개의 데이터셋과\n",
    "\n",
    "5개의 모델, 여러 기능을 구현한 함수들을 통해 학습과 분류 예측을 수행하고\n",
    "\n",
    "그 결과 리포트를 확인하고 정리하는 과정을 가졌다.\n",
    "\n",
    "|model＼dataset                 |digit|wine|cancer|\n",
    "|-------------------------------|-----|----|------|\n",
    "|Decision Tree                  |0.86 |0.83|0.96  |\n",
    "|Random Forest                  |0.97 |1.00|0.96  |\n",
    "|Support vector machine         |0.98 |0.69|0.94  |\n",
    "|Stochastic Gradient Descent    |0.96 |0.58|0.90  |\n",
    "|Logistic regression            |0.96 |0.94|0.96  |\n",
    "\n",
    "이 결과를 토대로 각 데이터셋의 특징에 따라서 각 모델들에서\n",
    "\n",
    "유리한 모델이 있는가 하면, 상대적으로 불리한 모델도 있는것으로 보인다.\n",
    "\n",
    "여기서는 각 모델들에 대해서 어떤 특징이나 장단점이 있길래\n",
    "\n",
    "결과들에서 차이가 있었는지 한번 생각해 보는 기회를 가지도록 하겠다."
   ]
  },
  {
   "cell_type": "markdown",
   "metadata": {},
   "source": [
    "### 1) Decision Tree"
   ]
  },
  {
   "cell_type": "markdown",
   "metadata": {},
   "source": [
    "Decision Tree 모델의 개요를 살펴보면,\n",
    "\n",
    "데이터셋을 반복적으로 분할하는 과정을 통해, 서브셋 내의 데이터가\n",
    "\n",
    "충분히 동질적일 때 까지 분할 작업을 반복하는 과정을 거치며\n",
    "\n",
    "나무의 가지들이 분리되는 구조를 형성해가고 가지의 끝(잎, Leaf)은 분류 예측의 판별이 된다.\n",
    "\n",
    "이 모델의 장점과 단점에 대해서도 scikit-learn 모듈 공식 문서에 표기가 되어있는데,\n",
    "\n",
    "scikit-Leaen 의 1.10 Decision Tree ([https://scikit-learn.org/stable/modules/tree.html](https://scikit-learn.org/stable/modules/tree.html))\n",
    "\n",
    "의 일부를 인용하자면,\n",
    "\n",
    "> #### 장점\n",
    "\n",
    " - 이해하고 해석하기 쉽다. Tree 시각화를 할 수 있다.\n",
    "\n",
    " - 약간의 데이터 준비만 필요하다. <br>다른 기술은 데이터 정규화 더미변수 만들거나 빈값 제거 등의 작업이 필요.\n",
    "\n",
    " - 수치 및 범위 데이터를 모두 처리할 수 있다.\n",
    "\n",
    "> #### 단점\n",
    " \n",
    " - 지나치게 복잡한 트리를 만드는 등의 과적합 발생할 수 있음.<br>Leaf 노드에 필요한 샘플 수 설정 또는 트리의 최대 깊이 설정과 같은 메커니즘이 요구.\n",
    " \n",
    " - 데이터 준비 과정이 간결하다 하나, 결측치는 지원하지 않음.\n",
    "\n",
    " - scikit-learn 의 Decision Tree 구현에는 범위형 변수가 지원되지 않음.\n",
    "\n",
    "등의 내용을 확인할 수 있다.\n"
   ]
  },
  {
   "cell_type": "markdown",
   "metadata": {},
   "source": [
    "여기서 한가지, scikit-learn 에서 제공하는 Decision Tree 의 경우\n",
    "\n",
    "장점의 하나로, 시각화가 가능하다고 하였다.\n",
    "\n",
    "scikit-learn 에서는 Grapiviz 형식을 통한 방법에 대해서 간략하게 소개하고 있다.\n",
    "\n",
    "conda 패키지 관리자를 통해 python-graphviz 인스톨 하면 사용할 수 있다.\n",
    "\n",
    "그렇지만, 이러한 외부 패키지 설치 없이 scikit-learn 에서도 자체적으로\n",
    "\n",
    "export_text 라는 함수를 제공하고 있는데, graphviz 와 다르게\n",
    "\n",
    "그래픽으로 표현 해 주지는 않고 텍스트로 표현을 해 준다.\n",
    "\n",
    "텍스트 형식의 출력이라 하더라도 Tree 의 구조를 파악하는데에는 상당히 도움이 된다.\n",
    "\n",
    "export_text 의 간단한 사용을 알아보자."
   ]
  },
  {
   "cell_type": "code",
   "execution_count": 287,
   "metadata": {},
   "outputs": [
    {
     "name": "stdout",
     "output_type": "stream",
     "text": [
      "|--- proline <= 755.00\n",
      "|   |--- od280/od315_of_diluted_wines <= 2.11\n",
      "|   |   |--- hue <= 0.94\n",
      "|   |   |   |--- flavanoids <= 1.58\n",
      "|   |   |   |   |--- class: 2\n",
      "|   |   |   |--- flavanoids >  1.58\n",
      "|   |   |   |   |--- class: 1\n",
      "|   |   |--- hue >  0.94\n",
      "|   |   |   |--- color_intensity <= 5.82\n",
      "|   |   |   |   |--- class: 1\n",
      "|   |   |   |--- color_intensity >  5.82\n",
      "|   |   |   |   |--- class: 2\n",
      "|   |--- od280/od315_of_diluted_wines >  2.11\n",
      "|   |   |--- flavanoids <= 0.80\n",
      "|   |   |   |--- class: 2\n",
      "|   |   |--- flavanoids >  0.80\n",
      "|   |   |   |--- alcohol <= 13.17\n",
      "|   |   |   |   |--- class: 1\n",
      "|   |   |   |--- alcohol >  13.17\n",
      "|   |   |   |   |--- class: 1\n",
      "|--- proline >  755.00\n",
      "|   |--- flavanoids <= 2.17\n",
      "|   |   |--- hue <= 0.80\n",
      "|   |   |   |--- class: 2\n",
      "|   |   |--- hue >  0.80\n",
      "|   |   |   |--- class: 1\n",
      "|   |--- flavanoids >  2.17\n",
      "|   |   |--- magnesium <= 135.50\n",
      "|   |   |   |--- class: 0\n",
      "|   |   |--- magnesium >  135.50\n",
      "|   |   |   |--- class: 1\n",
      "\n"
     ]
    }
   ],
   "source": [
    "from sklearn.tree import export_text\n",
    "dtree = DecisionTreeClassifier(random_state=0, max_depth=4)     ## max_depth 증가에 따라 트리 계층이 복잡해짐\n",
    "dtree = dtree.fit(wine_ds.data, wine_ds.target)\n",
    "r = export_text(dtree, feature_names=wine_ds[\"feature_names\"])\n",
    "print(r)"
   ]
  },
  {
   "cell_type": "markdown",
   "metadata": {},
   "source": [
    "Tree 시각화를 통해, 부등호와 우변의 수치등을 확인하면,\n",
    "\n",
    "분류예측이 어떤 처리과정을 따라 흐르는지 살펴볼 수 있다.\n",
    "\n",
    "이것을 통해 Decision Tree 예측 과정에 대한 이해가 조금 편해졌다."
   ]
  },
  {
   "cell_type": "markdown",
   "metadata": {},
   "source": [
    "|model＼dataset                 |digit|wine|cancer|\n",
    "|-------------------------------|-----|----|------|\n",
    "|__Decision Tree__                  |__0.86__ |__0.83__|__0.96__  |\n",
    "|Random Forest                  |0.97 |1.00|0.96  |\n",
    "|Support vector machine         |0.98 |0.69|0.94  |\n",
    "|Stochastic Gradient Descent    |0.96 |0.58|0.90  |\n",
    "|Logistic regression            |0.96 |0.94|0.96  |\n",
    "\n",
    "Decision Tree 의 경우 3개의 데이터셋에 대한 분류 결과 리포트에서\n",
    "\n",
    "일반적으로 83~96％ 정도의 정확도를 보여줬는데,\n",
    "\n",
    "다른 데이터셋 대비, 비교적 breast_cancer 데이터셋에서 높은 정확도를 보였다.\n",
    "\n",
    "<hr>\n",
    "\n",
    "이러한 결과에 대해 추측해 보자면,\n",
    "\n",
    "좀전의 시각화(export_text) 결과를 토대로 판단했을때\n",
    "\n",
    "digit, wine 데이터셋은 각각 피쳐들에 대해서 일부 피쳐만을 사용했을 때에\n",
    "\n",
    "breast_cancer 데이터셋 대비, 결과 예측도가 떨어지는 것으로 판단된다.\n",
    "\n",
    "\n",
    "wine 데이터셋의 시각화 결과를 보면\n",
    "\n",
    "처음의 상위 노드에서 proline 피쳐 먼저 확인을 하고\n",
    "\n",
    "그 아래의 노드들로 분할을 통해 반복적으로 분류를 해 나가는 과정을 알 수 있다.\n",
    "\n",
    "\n",
    "digit, wine 셋은 여러 피쳐들 중에 이렇게 상위에 위치하게 될 노드가 되는 피쳐가,\n",
    "\n",
    "다른 피쳐들과 어느정도 연관성은 있을 테지만, 그렇다고 해서\n",
    "\n",
    "breast_cancer의 피쳐들이 서로 가지고 있는 연관성 보다는 아무래도 낮을 것이다.\n",
    "\n",
    "\n",
    "그도 그럴 수 밖에 없는것이, 자료의 계측과 그에 따른 클래스 분류 방법에서부터\n",
    "\n",
    "차이가 있기 때문으로 생각된다.\n",
    "\n",
    "\n",
    "우선 피쳐 데이터셋의 경우에서도 각각 조금씩 차이가 보인다.\n",
    "\n",
    "digit = 0~9 까지 10개의 target\n",
    "\n",
    "wine = class_0, class_1, class_2\n",
    "\n",
    "breast_cancer = 악성, 양성\n",
    "\n",
    "상대적으로 breast_cancer 데이터는,\n",
    "\n",
    "학습데이터에서부터 10개의 피쳐들이 각각 3개씩의 연관된 값을 가지고 있다.\n",
    "\n",
    "또한, 악성이냐 아니냐(양성)의 판단만이 필요하기에\n",
    "\n",
    "피쳐들간의 데이터를 고려하면 상대적으로 뚜렷한 분류가 가능한 데이터들을\n",
    "\n",
    "계측하였고, 그 값을 특징데이터에 담아놓아, 밀접한 연관성이 있다고 보인다.\n",
    "\n",
    "그러한 이유로 그 외 4개 모델에서도\n",
    "\n",
    "90％ 이상의 정확도를 나타내는 것이 아닐까 생각된다.\n"
   ]
  },
  {
   "cell_type": "markdown",
   "metadata": {},
   "source": [
    "### 2) Random Forest"
   ]
  },
  {
   "cell_type": "markdown",
   "metadata": {},
   "source": [
    "Random Forest 의 개요를 보면,\n",
    "\n",
    "쉽게 설명하자면 Decision Tree 를 여러개 모아놓은 개념이라고 할 수 있다.\n",
    "\n",
    "이러한 단일 모델을 여러개 구성하여, 단일 모델을 사용할 때의\n",
    "\n",
    "단점을 극복하려는 개념으로 볼 수 있다. \n",
    "\n",
    "이러한 기법은 앙상블(Ensemble) 기법이라고도 한다.\n",
    "\n",
    "이것은 scikit-leanr 에서 Ensemble 패키지에서 제공하고 있다.\n",
    "\n",
    "Random Forest 를 설명하기에 적절한 예시를 [텐서플로우 허브](https://blog.tensorflow.org/2021/05/introducing-tensorflow-decision-forests.html)에서 다루고 있는데, 아래와 같다."
   ]
  },
  {
   "cell_type": "markdown",
   "metadata": {},
   "source": [
    "![Fig_01.gif](data:image/gif;base64,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)"
   ]
  },
  {
   "cell_type": "markdown",
   "metadata": {},
   "source": [
    "이 자료에서 설명하는 내용은, \n",
    "\n",
    "Decision tree 에서 무작위로 특징을 선별하여, Tree 를 만들고\n",
    "\n",
    "그 과정들을 반복하여 랜덤하게 결정된 피쳐들로 구성된\n",
    "\n",
    "여러개의 나무(여러개의 나무. 숲=Forest) 를 구성한 다음에\n",
    "\n",
    "그것들의 각각의 예측을 통한 결과들을 취합하여 (이미지에서는 VOTING=투표)\n",
    "\n",
    "분류 또는 회귀를 수행하게 된다.\n",
    "\n",
    "분류의 경우는 여러개의 Decision Tree 들에서 예측한 값들 중에\n",
    "\n",
    "가장 많은 값을 선택 한다고 한다.\n",
    "\n",
    "이러한 여러 예측의견을 취합하는 등의 방식을 앙상블(Ensemble) 이라 한다."
   ]
  },
  {
   "cell_type": "markdown",
   "metadata": {},
   "source": [
    "|model＼dataset                 |digit|wine|cancer|\n",
    "|-------------------------------|-----|----|------|\n",
    "|Decision Tree                  |0.86 |0.83|0.96  |\n",
    "|__Random Forest__                  |__0.97__ |__1.00__|__0.96__  |\n",
    "|Support vector machine         |0.98 |0.69|0.94  |\n",
    "|Stochastic Gradient Descent    |0.96 |0.58|0.90  |\n",
    "|Logistic regression            |0.96 |0.94|0.96  |\n",
    "\n",
    "5가지 모델중에 Ensemble 패키지에 포함된 모델은 Random Forest 뿐이다.\n",
    "\n",
    "앞서 Decision tree 에서 상대적으로 부족했던 digit, wine 데이터셋에서의\n",
    "\n",
    "정확도와의 비교를 통해 알 수 있듯, 앙상블 기법을 통해\n",
    "\n",
    "단일 Decision tree 의 부족한 점을 보완할 수 있다는 것을 확인할 수 있었다."
   ]
  },
  {
   "cell_type": "markdown",
   "metadata": {},
   "source": [
    "### 3) Support vector machine (SVM)"
   ]
  },
  {
   "cell_type": "markdown",
   "metadata": {},
   "source": [
    "SVM에 대해 간략하게 살펴보자.\n",
    "\n",
    "SVM은 수학적 최적화 기법을 기반으로 분류 분석을 수행한다.\n",
    "\n",
    "SVM은 분류문제에 주로 이용한다지만, 사실상 거의 모든 문제에도 적용 가능하다.\n",
    "\n",
    "오차의 최소화 뿐만 아니라 일반화 성능을 극대화 시키는 것을 목표로 한다.\n",
    "\n",
    "이러한 일반화 성능도 중시하는 이유로, 필기체 인식이나 이미지 분류 등에서\n",
    "\n",
    "학습 데이터의 양을 줄일 수 있게 도움을 준다고도 한다.\n",
    "\n",
    "또한, SVM에 대한 이해에는 초평면(Hyperplane), margin, support vector 등의\n",
    "\n",
    "개념에 대해서 이해를 해야 하는데,\n",
    "\n",
    "scikit-learn 의 [1.4 Support vector machine](https://scikit-learn.org/stable/modules/svm.html) 부분을 참고하자.\n",
    "\n",
    "하지만 이 초평면에 대해서 해설이 어렵게 나와있어서 이해가 조금 어렵다.\n",
    "\n",
    "초평면을 분리하는 최대 마진([SVM: Maximum margin separating hyperplane](https://scikit-learn.org/stable/auto_examples/svm/plot_separating_hyperplane.html#sphx-glr-auto-examples-svm-plot-separating-hyperplane-py))\n",
    "\n",
    "에서 예시 코드와 함께 시각화 방법을 통해 확인을 할 수 있다.\n",
    "\n",
    "또한, 여러 커널함수를 통해 더 높은차원으로 변환을 해 가면서\n",
    "\n",
    "고차원 공간에서 두 집단을 분할하는 평면을 찾아가는 과정을 자세히 들여다보려면\n",
    "\n",
    "파라메터를 조절해 가면서 시각화를 꼭 해 봐야 가능한데,\n",
    "\n",
    "복잡한 내용이라 이해가 어렵고 내용이 너무 길어지니 이번 기회에서는 이정도만 알아보자.\n",
    "\n",
    "※ 참고 웹사이트 : [서포트 벡터 머신 - SVM](https://lebi.tistory.com/6)"
   ]
  },
  {
   "cell_type": "markdown",
   "metadata": {},
   "source": [
    "|model＼dataset                 |digit|wine|cancer|\n",
    "|-------------------------------|-----|----|------|\n",
    "|Decision Tree                  |0.86 |0.83|0.96  |\n",
    "|Random Forest                  |0.97 |1.00|0.96  |\n",
    "|__Support vector machine__         |__0.98__ |__0.69__|__0.94__  |\n",
    "|Stochastic Gradient Descent    |0.96 |0.58|0.90  |\n",
    "|Logistic regression            |0.96 |0.94|0.96  |"
   ]
  },
  {
   "cell_type": "markdown",
   "metadata": {},
   "source": [
    "SVM 모델의 경우 wine 데이터셋에서 유독 정확도가 떨어지는 리포트를 보였다.\n",
    "\n",
    "정확도를 올릴 수 있는 방법이 없을까？\n",
    "\n",
    "<hr>\n",
    "\n",
    "그에 대한 힌트는 scikit-learn 공식문서에서 찾을 수 있었다.\n",
    "\n",
    "[sklearn.svm.SVC](https://scikit-learn.org/stable/modules/generated/sklearn.svm.SVC.html#sklearn.svm.SVC)\n",
    "\n",
    "가장 영향을 크게 미치는 커널함수를 변경해 보고 결과를 알아보자."
   ]
  },
  {
   "cell_type": "code",
   "execution_count": 321,
   "metadata": {},
   "outputs": [
    {
     "name": "stdout",
     "output_type": "stream",
     "text": [
      "              precision    recall  f1-score   support\n",
      "\n",
      "           0       0.86      0.71      0.77        17\n",
      "           1       0.69      0.82      0.75        11\n",
      "           2       0.44      0.50      0.47         8\n",
      "\n",
      "    accuracy                           0.69        36\n",
      "   macro avg       0.66      0.67      0.66        36\n",
      "weighted avg       0.72      0.69      0.70        36\n",
      "\n"
     ]
    }
   ],
   "source": [
    "## 알고리즘에 사용할 kernel 함수 유형을 지정한다. 기본값은 'rbf'\n",
    "cls_report = learn(wine_ds.data, wine_ds.target, svm.SVC(kernel='rbf'))\n",
    "print(cls_report)"
   ]
  },
  {
   "cell_type": "markdown",
   "metadata": {},
   "source": [
    "svm.SVC(kernel='rbf') 는 svm.SVC() 와 기능적으로 동일하다.\n",
    "\n",
    "기존대로의 결과가 나온 것을 알 수 있다."
   ]
  },
  {
   "cell_type": "code",
   "execution_count": 320,
   "metadata": {},
   "outputs": [
    {
     "name": "stdout",
     "output_type": "stream",
     "text": [
      "              precision    recall  f1-score   support\n",
      "\n",
      "           0       0.94      0.94      0.94        17\n",
      "           1       0.83      0.91      0.87        11\n",
      "           2       1.00      0.88      0.93         8\n",
      "\n",
      "    accuracy                           0.92        36\n",
      "   macro avg       0.92      0.91      0.91        36\n",
      "weighted avg       0.92      0.92      0.92        36\n",
      "\n"
     ]
    }
   ],
   "source": [
    "## 커널 함수를 linear 로 변경\n",
    "cls_report = learn(wine_ds.data, wine_ds.target, svm.SVC(kernel='linear'))\n",
    "print(cls_report)"
   ]
  },
  {
   "cell_type": "markdown",
   "metadata": {},
   "source": [
    "커널함수 변경을 통해 정확도가 올라간 것을 확인할 수 있다."
   ]
  },
  {
   "cell_type": "code",
   "execution_count": 319,
   "metadata": {},
   "outputs": [
    {
     "name": "stdout",
     "output_type": "stream",
     "text": [
      "              precision    recall  f1-score   support\n",
      "\n",
      "           0       0.97      1.00      0.99        35\n",
      "           1       0.95      1.00      0.97        35\n",
      "           2       0.97      1.00      0.99        36\n",
      "           3       1.00      0.95      0.97        37\n",
      "           4       1.00      0.97      0.98        32\n",
      "           5       0.96      0.98      0.97        46\n",
      "           6       1.00      0.97      0.98        30\n",
      "           7       1.00      0.98      0.99        42\n",
      "           8       1.00      0.95      0.97        38\n",
      "           9       0.90      0.97      0.93        29\n",
      "\n",
      "    accuracy                           0.97       360\n",
      "   macro avg       0.98      0.97      0.97       360\n",
      "weighted avg       0.98      0.97      0.98       360\n",
      "\n",
      "              precision    recall  f1-score   support\n",
      "\n",
      "           0       0.94      0.94      0.94        17\n",
      "           1       0.83      0.91      0.87        11\n",
      "           2       1.00      0.88      0.93         8\n",
      "\n",
      "    accuracy                           0.92        36\n",
      "   macro avg       0.92      0.91      0.91        36\n",
      "weighted avg       0.92      0.92      0.92        36\n",
      "\n",
      "              precision    recall  f1-score   support\n",
      "\n",
      "           0       0.98      0.96      0.97        48\n",
      "           1       0.97      0.98      0.98        66\n",
      "\n",
      "    accuracy                           0.97       114\n",
      "   macro avg       0.97      0.97      0.97       114\n",
      "weighted avg       0.97      0.97      0.97       114\n",
      "\n"
     ]
    }
   ],
   "source": [
    "## 3개 데이터셋에 대해 다시 리포트를 가져오자\n",
    "cls_report = learn(digi_ds.data, digi_ds.target, svm.SVC(kernel='linear'))\n",
    "print(cls_report)\n",
    "cls_report = learn(wine_ds.data, wine_ds.target, svm.SVC(kernel='linear'))\n",
    "print(cls_report)\n",
    "cls_report = learn(canc_ds.data, canc_ds.target, svm.SVC(kernel='linear'))\n",
    "print(cls_report)"
   ]
  },
  {
   "cell_type": "markdown",
   "metadata": {},
   "source": [
    "SVM 을 세분화 해서 다시 정리하자면 결과는 다음과 같다.\n",
    "\n",
    "|model＼dataset                 |digit|wine|cancer|\n",
    "|-------------------------------|-----|----|------|\n",
    "|Decision Tree                  |0.86 |0.83|0.96  |\n",
    "|Random Forest                  |0.97 |1.00|0.96  |\n",
    "|__SVM (kernel='rbf')__         |__0.98__ |__0.69__|__0.94__  |\n",
    "|__SVM (kernel='linear')__        |__0.97__ |__0.92__|__0.97__  |\n",
    "|Stochastic Gradient Descent    |0.96 |0.58|0.90  |\n",
    "|Logistic regression            |0.96 |0.94|0.96  |"
   ]
  },
  {
   "cell_type": "markdown",
   "metadata": {},
   "source": [
    "### 4) Stochastic Gradient Descent"
   ]
  },
  {
   "cell_type": "markdown",
   "metadata": {},
   "source": [
    "SGD 의 개요와 장단점에 대해 알아보자.\n",
    "\n",
    "scikit-learn 공식 문서에 따르면, \n",
    "\n",
    "SGD는 (linear)SVM 및 로지스틱 회귀와 같은 convex loss functions에서\n",
    "\n",
    "선형 분류 및 회귀에 fitting 하는 간단하면서도 매우 효율적인 접근 방식이다.\n",
    "\n",
    "최근 대규모 학습의 맥락에서 상당한 주목을 받고 있다.\n",
    "\n",
    "기존 Gradient Descent 방식에서는 최적값을 찾기 위해서\n",
    "\n",
    "모든 데이터셋을 필요로 하였는데, 이로 인한 학습 시간이 길어지는 단점이 있었다.\n",
    "\n",
    "그래서 이를 개량하게 된 것이 Stochastic Gradient Descent (SGD) 모델이다.\n",
    "\n",
    "기존 GD의 모든 데이터셋을 Full-batch 로 가져오던 것 과 달리\n",
    "\n",
    "SGD는 Mini-batch 단위로 잘게 나누어, 일부 데이터만을 계산하며\n",
    "\n",
    "최적을 찾아 나가는 과정을 보인다.\n",
    "\n",
    "SGD가 최적값을 찾아 나가는 모양을 보면 약간 방향성이 일정치 않은 것 같지만,\n",
    "\n",
    "기존 GD 기법으로 모든 데이터를 계산하고 최적의 스텝을 찾아가기까지\n",
    "\n",
    "시간이 많이 걸리는 단점을 보완했다고 할 수 있겠다."
   ]
  },
  {
   "cell_type": "markdown",
   "metadata": {},
   "source": [
    "간략하게 GD 기법과 SGD 기법을 비교한 자료를 찾을 수 있었다.\n",
    "\n",
    "> GD\n",
    " - 모든 데이터를 계산한다 => 소요시간 1시간\n",
    " - 최적의 한스텝을 나아간다.\n",
    " - 6 스텝 * 1시간 = 6시간\n",
    " - 확실한데 너무 느리다.\n",
    "\n",
    "> SGD\n",
    " - 일부 데이터만 계산한다 => 소요시간 5분\n",
    " - 빠르게 전진한다.\n",
    " - 10 스텝 * 5분 => 50분\n",
    " - 조금 헤메지만 그래도 빠르게 간다!\n",
    "\n",
    "※ 참고 웹사이트 : [딥러닝(Deep learning) 살펴보기](https://seamless.tistory.com/38)"
   ]
  },
  {
   "cell_type": "markdown",
   "metadata": {},
   "source": [
    "scikit-learn 공식 문서 등의 정보를 참고하면, 장점과 단점은 아래와 같다.\n",
    "\n",
    ">SGD 기법의 장점\n",
    " \n",
    " - 효율적\n",
    "\n",
    " - 구현의 용이성\n",
    "\n",
    ">SGD 기법의 단점\n",
    "\n",
    " - 정규화 매개변수 및 반복 횟수와 같은 다수의 hyperparameters 필요.\n",
    "\n",
    " - Feature scaling에 민감하므로, 데이터 스케일링을 하는 것을 권장."
   ]
  },
  {
   "cell_type": "markdown",
   "metadata": {},
   "source": [
    "다시 리포트 취합한 표를 확인해 보자.\n",
    "\n",
    "|model＼dataset                 |digit|wine|cancer|\n",
    "|-------------------------------|-----|----|------|\n",
    "|Decision Tree                  |0.86 |0.83|0.96  |\n",
    "|Random Forest                  |0.97 |1.00|0.96  |\n",
    "|SVM (kernel='rbf')             |0.98 |0.69|0.94  |\n",
    "|SVM (kernel='linear')          |0.97 |0.92|0.97  |\n",
    "|__Stochastic Gradient Descent__    |__0.96__ |__0.58__|__0.90__  |\n",
    "|Logistic regression            |0.96 |0.94|0.96  |\n",
    "\n",
    "또 wine 인가…\n",
    "\n",
    "그렇다면, 이번에도 wine 데이터셋의 정확도를 올리는 방법이 없을까？\n",
    "\n",
    "<hr>\n",
    "\n",
    "이번에도 scikit-learn 공식 문서에서 찾아보고자 한다.\n",
    "\n",
    "[sklearn.linear_model.SGDClassifier](https://scikit-learn.org/stable/modules/generated/sklearn.linear_model.SGDClassifier.html#sklearn.linear_model.SGDClassifier)"
   ]
  },
  {
   "cell_type": "code",
   "execution_count": 416,
   "metadata": {},
   "outputs": [
    {
     "name": "stdout",
     "output_type": "stream",
     "text": [
      "              precision    recall  f1-score   support\n",
      "\n",
      "           0       0.87      0.76      0.81        17\n",
      "           1       0.71      0.45      0.56        11\n",
      "           2       0.36      0.62      0.45         8\n",
      "\n",
      "    accuracy                           0.64        36\n",
      "   macro avg       0.65      0.61      0.61        36\n",
      "weighted avg       0.71      0.64      0.65        36\n",
      "\n"
     ]
    }
   ],
   "source": [
    "## loss 함수를 지정한다. 기본값은 'hinge'\n",
    "cls_report = learn(wine_ds.data, wine_ds.target, SGDClassifier(loss=\"hinge\"))\n",
    "print(cls_report)"
   ]
  },
  {
   "cell_type": "markdown",
   "metadata": {},
   "source": [
    "공식 문서에서는 loss 함수 기본값을 hinge 로 정의하고 있다.\n",
    "\n",
    "그리고, loss='hinge' 는 linear SVM 을 제공한다 하였는데.\n",
    "\n",
    "어떻게 된 일인지 정확도 차이가 SVM(kernel='linear') 를 따라가지 못한다.\n",
    "\n",
    "또한, 리포트를 계속 받아와서 출력 할 때 마다 accuracy 수치가 바뀐다.\n",
    "\n",
    "loss='log_loss' 지정할 경우는 Logistic regression 을 제공한다 하였다.\n",
    "\n",
    "이 경우 또한 확인 해 보았다."
   ]
  },
  {
   "cell_type": "code",
   "execution_count": 5,
   "metadata": {},
   "outputs": [
    {
     "name": "stdout",
     "output_type": "stream",
     "text": [
      "              precision    recall  f1-score   support\n",
      "\n",
      "           0       0.87      0.76      0.81        17\n",
      "           1       0.48      0.91      0.62        11\n",
      "           2       1.00      0.00      0.00         8\n",
      "\n",
      "    accuracy                           0.64        36\n",
      "   macro avg       0.78      0.56      0.48        36\n",
      "weighted avg       0.78      0.64      0.57        36\n",
      "\n"
     ]
    }
   ],
   "source": [
    "## loss 함수를 지정한다. 기본값은 'hinge' → 'log_loss' 로 변경\n",
    "cls_report = learn(wine_ds.data, wine_ds.target, SGDClassifier(loss=\"log_loss\"))\n",
    "print(cls_report)"
   ]
  },
  {
   "cell_type": "markdown",
   "metadata": {},
   "source": [
    "scikit-learn 공식 문서의 SGDClassifier 메소드 설명에 따르면\n",
    "\n",
    " - fit : Fit linear model with Stochastic Gradient Descent.\n",
    "\n",
    " - partial_fit : Perform one epoch of stochastic gradient descent on given samples.\n",
    "\n",
    "위와 같이 나와있다.\n",
    "\n",
    "설명상에서 지금의 이슈를 해결할 만한 내용은 보이지 않았지만 그래도 해보자."
   ]
  },
  {
   "cell_type": "code",
   "execution_count": 442,
   "metadata": {},
   "outputs": [
    {
     "name": "stdout",
     "output_type": "stream",
     "text": [
      "              precision    recall  f1-score   support\n",
      "\n",
      "           0       1.00      0.41      0.58        17\n",
      "           1       0.38      1.00      0.55        11\n",
      "           2       1.00      0.00      0.00         8\n",
      "\n",
      "    accuracy                           0.50        36\n",
      "   macro avg       0.79      0.47      0.38        36\n",
      "weighted avg       0.81      0.50      0.44        36\n",
      "\n"
     ]
    }
   ],
   "source": [
    "## fit 대신에 partial_fit 사용해 보았지만, 유의미한 결과는 찾아볼 수 없었다.\n",
    "model = SGDClassifier(loss=\"hinge\")\n",
    "datapack = \\\n",
    "    train_test_split(\n",
    "        wine_ds.data,\n",
    "        wine_ds.target,\n",
    "        test_size=0.2, \n",
    "        random_state=5)\n",
    "x_train, x_test, y_train, y_test = datapack\n",
    "model.partial_fit(x_train, y_train, classes=np.unique(y_train))  ## partial_fit 사용\n",
    "y_pred = model.predict(x_test)\n",
    "cls_report = classification_report(y_test, y_pred, zero_division=1)\n",
    "print(cls_report)"
   ]
  },
  {
   "cell_type": "markdown",
   "metadata": {},
   "source": [
    "이것도 꽝 이었다."
   ]
  },
  {
   "cell_type": "markdown",
   "metadata": {},
   "source": [
    "여전히 리포트를 출력할 때 마다 수치가 바뀌었으며,\n",
    "\n",
    "정확성이 loss='hinge' 인 기본값 보다 더 떨어지는 결과가 나왔다.\n",
    "\n",
    "또한, 마지막 학습 모델인 Logistic regression 의 정확도와 비교 해봐도\n",
    "\n",
    "리포트의 정확도 수치에서는 두 모델간에 상당한 차이가 보인다.\n",
    "\n",
    "공식 문서에서는 log_loss 의 경우 Logistic regression 을 제공한다 했지만.\n",
    "\n",
    "다른 부분도 여러가지 바꿔 보았지만, 유의미한 정확도의 상승을 확인하기 어려웠다.\n",
    "\n",
    "\n",
    "SGD 모델에 와인 데이터셋이 적합하지 않은 경우라고 가정하더라도,\n",
    "\n",
    "어째서 linear SVM 과 Logistic regression 모델과 큰 차이가 나타나는지\n",
    "\n",
    "지금으로서는 알 수가 없었다."
   ]
  },
  {
   "cell_type": "markdown",
   "metadata": {},
   "source": [
    "### 5) Logistic regression"
   ]
  },
  {
   "cell_type": "markdown",
   "metadata": {},
   "source": [
    "이번에는 Logistic regression 에 대하여 알아보겠다.\n",
    "\n",
    "scikit-learn 공식 문서에 따르면,\n",
    "\n",
    "Logistic regression 는 그 이름(로지스틱회귀)에도 불구하고\n",
    "\n",
    "회귀가 아닌 분류를 위한 선형 모델임을 밝혀두고 있다.\n",
    "\n",
    "Logistic regression 을 이해하기 위해서는 우선 Linear regression 을 먼저\n",
    "\n",
    "이해하는 것이 도움이 된다고 한다.\n",
    "\n",
    "※ 참고 웹사이트：[로지스틱회귀(Logistic Regression) 쉽게 이해하기](https://hleecaster.com/ml-logistic-regression-concept/)"
   ]
  },
  {
   "cell_type": "markdown",
   "metadata": {},
   "source": [
    "간단히 위 참고 웹사이트 내용을 남기면 아래와 같다.\n",
    "\n",
    "Logistic regression은 이진분류에 사용.\n",
    "\n",
    "각 속성들의 계수 log_odds 를 구하고 Sigmoid 함수를 적용하여 분류\n",
    "\n",
    " - Linear regression : 계단 함수\n",
    " \n",
    " - Logistic regression : 시그모이드 함수\n",
    "\n",
    "Logistic regression 에서 손실함수는 Log loss\n",
    "\n",
    "임계값은 값의 1, 0 의 분류를 결정하는 컷오프라고 하며, 조정 가능하다."
   ]
  },
  {
   "cell_type": "markdown",
   "metadata": {},
   "source": [
    "다시 리포트 결과 표를 확인해 보면 다음과 같다.\n",
    "\n",
    "|model＼dataset                 |digit|wine|cancer|\n",
    "|-------------------------------|-----|----|------|\n",
    "|Decision Tree                  |0.86 |0.83|0.96  |\n",
    "|Random Forest                  |0.97 |1.00|0.96  |\n",
    "|SVM (kernel='rbf')             |0.98 |0.69|0.94  |\n",
    "|SVM (kernel='linear')          |0.97 |0.92|0.97  |\n",
    "|Stochastic Gradient Descent    |0.96 |0.58|0.90  |\n",
    "|__Logistic regression__            |__0.96__ |__0.94__|__0.96__  |\n",
    "\n",
    "전반적으로 정확도가 높아서, 특별히 고려해 볼 만한 내용이 머릿속에 떠오르지 않는다.\n"
   ]
  },
  {
   "cell_type": "markdown",
   "metadata": {},
   "source": [
    "## 3. 회고"
   ]
  },
  {
   "cell_type": "markdown",
   "metadata": {},
   "source": [
    "### 1) 진행 과정에서의 어려움"
   ]
  },
  {
   "cell_type": "markdown",
   "metadata": {},
   "source": [
    "처음에서는 각 모델의 원리에 대한 이해도가 낮았었다.\n",
    "\n",
    "Decision Tree 에 대한 내용만 조금 이해한 상태였다.\n",
    "\n",
    "아무리 scikit-learn 에서 제공하는 기능들의 사용법이 간단하다고 하더라도\n",
    "\n",
    "대부분 모델들을 전혀 이해하지 못한 상태에서는, \n",
    "\n",
    "코드만 붙여넣어서 실행해본게 전부가 아닐까 하는 느낌이 들었다.\n",
    "\n",
    "많은 모델중에 5개의 모델은 극히 일부에 불과하지만,\n",
    "\n",
    "그렇다고 이 5개 모델에 대해 완전히 이해를 했는가 묻는다면\n",
    "\n",
    "아직도 내가 많이 미흡하다는 사실은 인정할 수 밖에 없다."
   ]
  },
  {
   "cell_type": "markdown",
   "metadata": {},
   "source": [
    "### 2) 프로젝트 수행을 통해 얻은 것"
   ]
  },
  {
   "cell_type": "markdown",
   "metadata": {},
   "source": [
    "이해도가 너무 낮은 상태였기에, 많은 것을 학습하며 얻을 수 있었다.\n",
    "\n",
    "우선은 scikit-learn 에서 머신러닝을 위해 모델들과 데이터셋,\n",
    "\n",
    "머신러닝을 위해 미리 준비해둔 헬퍼 함수 같은 내장 함수들\n",
    "\n",
    "그러한 것들이 무슨 기능을 하는지 대략적으로 살펴볼 수 있었다.\n",
    "\n",
    "또한 메소드들의 사용법을 훑어보면서 다른 함수와 기법들을 적용해 보며,\n",
    "\n",
    "그 결과 리포트를 통해 차이를 확인할 수 있는 경우도 있었다.\n",
    "\n",
    "구조가 조금이나마 이해가 되니, 다시 앞으로 돌아가서\n",
    "\n",
    "직접 학습 과정을 정리해서 사용자 정의 함수를 만들어\n",
    "\n",
    "학습과 그 결과 확인을 간소화 하기도 하면서 머릿속에서 정리를 할 수 있었다.\n",
    "\n",
    "무엇보다도 전혀 모르는 것과 다름 없었던 모델들에 대해서\n",
    "\n",
    "이런저런 자료들을 찾는데 대부분의 시간을 쏟은 결과\n",
    "\n",
    "약간의 이해를 할 수 있었다는 것이 소소한 수확이었다는 생각이 든다."
   ]
  },
  {
   "cell_type": "markdown",
   "metadata": {},
   "source": [
    "### 3) 프로젝트를 진행하면서 알아낸 점 혹은 모호한 점"
   ]
  },
  {
   "cell_type": "markdown",
   "metadata": {},
   "source": [
    "이 프로젝트를 수행하기 전에\n",
    "\n",
    "SVM 활용한 간단한 프로젝트를 잠깐 체험해 본 적이 있다.\n",
    "\n",
    "그때는 뭘 하는 지 모르고, 이 코드를 실행하면\n",
    "\n",
    "결과물이 이렇구나 하는 정도로 흘려넘겼었던 기억이 난다.\n",
    "\n",
    "이번에, SVM 에 대한 부분을 알아가는 과정이 특히 유익했다고 생각한다.\n",
    "\n",
    "다른 모델들에도 적용된 개념들을 SVM 에 대해 조사해 보는 과정에서\n",
    "\n",
    "많은 용어들과 개념들을 학습할 수 있었다.\n",
    "\n",
    "SVM 을 5가지 모델중에 3번째 모델로 다루었는데,\n",
    "\n",
    "Tree 모델 두가지는 그 나름의 특징을 서로 공유하는 점이 있다고 생각한다.\n",
    "\n",
    "그러나 아마도 세번째로 SVM 을 다루지 않았더라면,\n",
    "\n",
    "네번째로 다룬 SGD 와 다섯번째로 다룬 로지스틱회귀 모델을\n",
    "\n",
    "조사하고 이해하는 과정에서 시간을 더욱 많이 소모했을 것 같다.\n",
    "\n",
    "SVM 을 조사하는 과정에서 겉핥기 식으로라도 보고 넘어갔던 개념들이\n",
    "\n",
    "뒤에서 비슷한 내용이 약간씩 있다는 것을 알았을 때\n",
    "\n",
    "헛되이 시간을 쓴게 아니였구나 하는 생각이 들었다."
   ]
  },
  {
   "cell_type": "markdown",
   "metadata": {},
   "source": [
    "모호한 점은, 사실 아직도 원인파악이 안되는\n",
    "\n",
    "SGDClassifier 의 loss 함수 지정에 대한 결과이다.\n",
    "\n",
    "hinge 는 linear SVM 을, log_loss 는 Logistic regression 을\n",
    "\n",
    "제공한다 하였으나 정확도에서 전혀 유의미하게 나아지는 모습을 찾을 수 없었다.\n",
    "\n",
    "또한 실행시 매번 정확도 수치의 변동이 확인됐다.\n",
    "\n",
    "지금 생각해보면 SGD 말고 GD 모델을 먼저\n",
    "\n",
    "적용해 보면 어땠을까 하는 생각이 들지만 시간이 촉박하니\n",
    "\n",
    "나중에 기회가 되면 한번 확인해 볼 까 싶다.\n",
    "\n"
   ]
  },
  {
   "cell_type": "markdown",
   "metadata": {},
   "source": [
    "### 4) 루브릭 평가를 위해 시도한 것들"
   ]
  },
  {
   "cell_type": "markdown",
   "metadata": {},
   "source": [
    "루브릭 평가의 내용은 대부분 프로젝트를 만들어 과는 과정에서\n",
    "\n",
    "자연스럽게 만족이 되는 요소들이었다.\n",
    "\n"
   ]
  },
  {
   "cell_type": "markdown",
   "metadata": {},
   "source": [
    "SVM 모델은 다양한 분야에서 사용할 수 있다고 했는데,\n",
    "\n",
    "특정 데이터셋의 예측 분류 정확도가 낮은 것 같다는 생각이 들어서\n",
    "\n",
    "임의로 수행한, 별도로 커널함수를 변경해 본 SVM 모델 분석 과정 등은\n",
    "\n",
    "루브릭 평가와는 사실 관계가 없다.\n",
    "\n"
   ]
  },
  {
   "cell_type": "markdown",
   "metadata": {},
   "source": [
    "학습의 결과 예측 분류의 정확도가 80％ 충족하지 못하는 경우,\n",
    "\n",
    "그 정확도를 80％ 이상으로 만족시키라는 루브릭 평가 요소가 만약 존재했다면\n",
    "\n",
    "SVM 커널 함수를 변경하는 과정이 루브릭 평가를 위한 시도가 됐을 수는 있겠다.\n",
    "\n",
    "그렇지만, SGD 에서는 여전히 80％ 이상의 정확도 결과를 찾지 못했기 때문에,\n",
    "\n",
    "평가요소에 그것이 있었다 하더라도 결과적으로 이번 프로젝트에서는 달성 못했을 것이다.\n",
    "\n",
    "그 전에, 이번 평가요소에는 정확도 관련한 내용이 없었으니, 약간 안심했다."
   ]
  },
  {
   "cell_type": "markdown",
   "metadata": {},
   "source": [
    "### 5) 앞으로 다짐"
   ]
  },
  {
   "cell_type": "markdown",
   "metadata": {},
   "source": [
    "자료조사에 시간을 너무 많이 소모한 점이\n",
    "\n",
    "아쉬운점이자 보완해야 할 점으로 생각된다.\n",
    "\n",
    "물론 거의 대부분의 문서들이 영어로만 이루어 진 점 때문이라고,\n",
    "\n",
    "변명 할 수도 있겠지만, 공식 문서 외에 다른 경로들 에서\n",
    "\n",
    "한글로 설명이 되어 있는 많은 아티클들을 확인 할 수 있었다.\n",
    "\n",
    "다만 수 많은 자료들에서 진짜 내가 찾는 부분이 있는지,\n",
    "\n",
    "설명과 정의한 내용들이 자료들의 출처마다 다른 점들도 많다보니\n",
    "\n",
    "결국은 또 공식문서로 되돌아오게 되었다.\n",
    "\n",
    "그런 낭비의 과오들을 반복하며 시간을 많이 소모했다.\n",
    "\n",
    "일정 후반부에 다다르고 나서야, 수학적인 부분은 대부분 포기하고\n",
    "\n",
    "개념적인 부분에 대한 이해 위주로 개념들을 정리하기 시작했고,\n",
    "\n",
    "그러면서 내용이 채워져 가기 시작했다."
   ]
  },
  {
   "cell_type": "markdown",
   "metadata": {},
   "source": [
    "애시당초 주제에 해당하지도 않는 Iris 데이터셋을 가지고\n",
    "\n",
    "8개 단락까지 프로젝트를 만들고 있던 것도 그와 비슷한 실책에서 비롯된 것이었다.\n",
    "\n",
    "일단 내용을 끝까지 확인 하고 프로젝트를 시작 했어도 됐을 텐데,\n",
    "\n",
    "시작하면서 차근차근 하나씩 조사하고 알아가는 과정을 기록해야겠다는 마음으로\n",
    "\n",
    "Iris 데이터셋을 거의 하루종일 붙들고 있었다.\n",
    "\n",
    "나중에 주제가 Iris 아니구나 깨달은 순간, 나의 사고회로가 작동을 멈췄다.\n",
    "\n",
    "그걸 회복하기 까지 오랜 시간이 걸렸다.\n",
    "\n",
    "다음에는 이런 중대사항을 놓치지 않고자 다시 한번 다짐한다."
   ]
  },
  {
   "cell_type": "markdown",
   "metadata": {},
   "source": [
    "#### 6) Reference"
   ]
  },
  {
   "cell_type": "markdown",
   "metadata": {},
   "source": [
    "- scikit-Learn ([https://scikit-learn.org/](https://scikit-learn.org/)) : 세부 웹페이지는 각 참고한 부분의 시작 부분에서 하이퍼링크를 적용하였다.\n",
    "\n",
    "- 그 외 : 그 외 대부분의 참고 자료는 해당 참고 자료 인용한 부분 바로 아래에 ※ 기호와 함께 표기하였다."
   ]
  },
  {
   "cell_type": "markdown",
   "metadata": {},
   "source": [
    "<hr>"
   ]
  }
 ],
 "metadata": {
  "kernelspec": {
   "display_name": "Python 3.10.6 64-bit",
   "language": "python",
   "name": "python3"
  },
  "language_info": {
   "codemirror_mode": {
    "name": "ipython",
    "version": 3
   },
   "file_extension": ".py",
   "mimetype": "text/x-python",
   "name": "python",
   "nbconvert_exporter": "python",
   "pygments_lexer": "ipython3",
   "version": "3.10.6"
  },
  "orig_nbformat": 4,
  "vscode": {
   "interpreter": {
    "hash": "fa2fcfcc45217a83c7993cd3cff61ac8331289bcd366c3362ccdb43d499c88e1"
   }
  }
 },
 "nbformat": 4,
 "nbformat_minor": 2
}
